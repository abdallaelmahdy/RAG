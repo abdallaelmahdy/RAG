{
 "cells": [
  {
   "cell_type": "markdown",
   "id": "b27e00ee-4b83-4cab-8cfe-0271983fe0c8",
   "metadata": {},
   "source": [
    "### 1. Document/text processing and embedding creation\n",
    "Ingredients:\n",
    "\n",
    "PDF document of choice (note: this could be almost any kind of document, I've just chosen to focus on PDFs for now).\n",
    "Embedding model of choice.\n",
    "Steps:\n",
    "\n",
    "Import PDF document.\n",
    "Process text for embedding (e.g. split into chunks of sentences).\n",
    "Embed text chunks with embedding model.\n",
    "Save embeddings to file for later (embeddings will store on file for many years or until you lose your hard drive)."
   ]
  },
  {
   "cell_type": "markdown",
   "id": "4251ee09-c011-4189-bcd3-65caf62dc305",
   "metadata": {},
   "source": [
    "### Import PDF Document"
   ]
  },
  {
   "cell_type": "code",
   "execution_count": 1,
   "id": "9796fc2c-d0f4-4108-a129-2ad4fcc4fe6b",
   "metadata": {},
   "outputs": [
    {
     "name": "stdout",
     "output_type": "stream",
     "text": [
      "File human-nutrition-text.pdf exists.\n"
     ]
    }
   ],
   "source": [
    "import os\n",
    "import requests\n",
    "\n",
    "# Get PDF document path\n",
    "pdf_path = \"human-nutrition-text.pdf\"\n",
    "\n",
    "# Download PDF\n",
    "if not os.path.exists(pdf_path):\n",
    "    print(\"[INFO] File doesn't exist, downloading...\")\n",
    "\n",
    "    # Enter the URL of the PDF\n",
    "    url = \"https://pressbooks.oer.hawaii.edu/humannutrition2/open/download?type=pdf\"\n",
    "\n",
    "    # The local filename to save the downloaded file\n",
    "    filename = pdf_path\n",
    "\n",
    "    # Send a GET request to the URL\n",
    "    response = requests.get(url)\n",
    "\n",
    "    # Check if the request was successful\n",
    "    if response.status_code == 200:\n",
    "        # Open the file and save it\n",
    "        with open(filename, \"wb\") as file:\n",
    "            file.write(response.content) \n",
    "        print(f\"[INFO] The file has been download and saved as {filename}\")\n",
    "    else:\n",
    "        print(f\"[INFO] Failed to download the file. Status code: {reponse.status_code}\")\n",
    "\n",
    "else:\n",
    "    print(f\"File {pdf_path} exists.\")"
   ]
  },
  {
   "cell_type": "code",
   "execution_count": 2,
   "id": "6847df3e-3995-4b6d-b061-2a62a6f42761",
   "metadata": {},
   "outputs": [
    {
     "data": {
      "application/vnd.jupyter.widget-view+json": {
       "model_id": "f750b1c3ab5c4811b36cf10da505e59c",
       "version_major": 2,
       "version_minor": 0
      },
      "text/plain": [
       "0it [00:00, ?it/s]"
      ]
     },
     "metadata": {},
     "output_type": "display_data"
    },
    {
     "data": {
      "text/plain": [
       "[{'page_number': -41,\n",
       "  'page_char_count': 29,\n",
       "  'page_word_count': 4,\n",
       "  'page_setence_count_raw': 1,\n",
       "  'page_token_count': 7.25,\n",
       "  'text': 'Human Nutrition: 2020 Edition'},\n",
       " {'page_number': -40,\n",
       "  'page_char_count': 0,\n",
       "  'page_word_count': 1,\n",
       "  'page_setence_count_raw': 1,\n",
       "  'page_token_count': 0.0,\n",
       "  'text': ''}]"
      ]
     },
     "execution_count": 2,
     "metadata": {},
     "output_type": "execute_result"
    }
   ],
   "source": [
    "import fitz # requires: !pip install PyMuPDF, see: https://github.com/pymupdf/PyMuPDF \n",
    "from tqdm.auto import tqdm # pip install tqdm\n",
    "\n",
    "def text_formatter(text: str) -> str: \n",
    "    \"\"\"Performs minor formatting on text.\"\"\"\n",
    "    cleaned_text = text.replace(\"\\n\", \" \").strip()\n",
    "\n",
    "    # Potentially more text formatting functions can go here\n",
    "    return cleaned_text\n",
    "\n",
    "def open_and_read_pdf(pdf_path: str) -> list[dict]:\n",
    "    doc = fitz.open(pdf_path)\n",
    "    pages_and_texts = [] \n",
    "    for page_number, page in tqdm(enumerate(doc)):\n",
    "        text = page.get_text()\n",
    "        text = text_formatter(text=text)\n",
    "        pages_and_texts.append({\"page_number\": page_number - 41,\n",
    "                                \"page_char_count\": len(text),\n",
    "                                \"page_word_count\": len(text.split(\" \")),\n",
    "                                \"page_setence_count_raw\": len(text.split(\". \")),\n",
    "                                \"page_token_count\": len(text) / 4, # 1 token = ~4 characters\n",
    "                                \"text\": text})\n",
    "    return pages_and_texts\n",
    "\n",
    "pages_and_texts = open_and_read_pdf(pdf_path=pdf_path)\n",
    "pages_and_texts[:2]"
   ]
  },
  {
   "cell_type": "code",
   "execution_count": 3,
   "id": "473c0287-eabc-44e6-b718-dd4ee3ebb9d3",
   "metadata": {},
   "outputs": [
    {
     "data": {
      "text/plain": [
       "[{'page_number': 307,\n",
       "  'page_char_count': 625,\n",
       "  'page_word_count': 120,\n",
       "  'page_setence_count_raw': 6,\n",
       "  'page_token_count': 156.25,\n",
       "  'text': 'Image by  Allison  Calabrese /  CC BY 4.0    Fatty Acid Types in the Body  The fatty-acid profile of the diet directly correlates to the  tissue lipid profile of the body. It may not solely be the  quantity of dietary fat that matters. More directly, the type  of dietary fat ingested has been shown to affect body  weight, composition, and metabolism. The fatty acids  consumed are often incorporated into the triglycerides  within the body. Evidence confirms that saturated fatty  acids are linked to higher rates of weight retention when  compared to other types of fatty acids. Alternatively, the  How Lipids Work  |  307'},\n",
       " {'page_number': 598,\n",
       "  'page_char_count': 1914,\n",
       "  'page_word_count': 305,\n",
       "  'page_setence_count_raw': 12,\n",
       "  'page_token_count': 478.5,\n",
       "  'text': 'to excessive sunlight, ozone, smoke, heavy metals, ionizing  radiation, asbestos, and other toxic chemicals increase the amount  of free radicals in the body. They do so by being free radicals  themselves or by adding energy that provokes electrons to move  between atoms. Excessive exposure to environmental sources of  free radicals can contribute to disease by overwhelming the free  radical detoxifying systems and those processes involved in  repairing oxidative damage.  Oxidative Stress  Oxidative stress refers to an imbalance in any cell, tissue, or organ  between the amount of free radicals and the capabilities of the  detoxifying and repair systems. Sustained oxidative damage results  only under conditions of oxidative stress—when the detoxifying and  repair systems are insufficient. Free radical-induced damage, when  left unrepaired, destroys lipids, proteins, RNA, and DNA, and can  contribute to disease. Oxidative stress has been implicated as a  contributing factor to cancer, atherosclerosis (hardening of  arteries), arthritis, diabetes, kidney disease, Alzheimer’s disease,  Parkinson’s disease, schizophrenia, bipolar disorder, emphysema,  and cataracts.  Aging is a process that is genetically determined but modulated  by factors in the environment. In the process of aging, tissue  function declines. The idea that oxidative stress is the primary  contributor to age-related tissue decline has been around for  decades, and it is true that tissues accumulate free radical-induced  damage as we age. Recent scientific evidence slightly modifies this  theory by suggesting oxidative stress is not the initial trigger for  age-related decline of tissues; it is suggested that the true culprit  is progressive dysfunction of metabolic processes, which leads to  increases in free radical production, thus influencing the stress  response of tissues as they age.  598  |  The Body’s Offense'},\n",
       " {'page_number': 666,\n",
       "  'page_char_count': 1524,\n",
       "  'page_word_count': 261,\n",
       "  'page_setence_count_raw': 27,\n",
       "  'page_token_count': 381.0,\n",
       "  'text': 'Copper  UNIVERSITY OF HAWAI‘I AT MĀNOA FOOD SCIENCE AND HUMAN  NUTRITION PROGRAM AND HUMAN NUTRITION PROGRAM  Copper, like iron, assists in electron transfer in the electron- transport chain. It is also an enzyme cofactor essential for iron  absorption and transport. The other important function of copper  is as an antioxidant. It is naturally present in several foods and  is generally accessible as a dietary supplement.1 A typical adult  body has a total copper content of 50-120 mg.2 The body maintains  copper level balance through absorption from the intestine and the  release of copper by the liver into bile. 3 Current studies indicate  that copper deficiency may be more frequent than what was  previously discovered, while copper toxicity is rare due to  conventional diets. 4 Symptoms of mild to moderate copper  1. Collins JF. Copper. In: Ross AC, Caballero B, Cousins RJ,  Tucker KL, Ziegler TR, eds. Modern Nutrition in Health  and Disease. 11th ed. Baltimore, MD: Lippincott Williams  & Wilkins; 2014:206-16.  2. Prohaska JR. Copper. In: Erdman JW, Macdonald IA,  Zeisel SH, eds. Present Knowledge in Nutrition. 10th ed.  Washington, DC: Wiley-Blackwell; 2012:540-53.  3. Institute of Medicine, Food and Nutrition Board. Dietary  Reference Intakes for Vitamin A, Vitamin K, Arsenic,  Boron, Chromium, Copper, Iodine, Iron, Manganese,  Molybdenum, Nickel, Silicon, Vanadium, and Zinc.  Washington, DC: National Academies Press; 2001.  4. de Romaña, D. L., Olivares, M., Uauy, R., & Araya, M.  666  |  Copper'}]"
      ]
     },
     "execution_count": 3,
     "metadata": {},
     "output_type": "execute_result"
    }
   ],
   "source": [
    "import random\n",
    "\n",
    "random.sample(pages_and_texts, k=3)"
   ]
  },
  {
   "cell_type": "code",
   "execution_count": 4,
   "id": "fd9d3604-dd47-4a9c-9aad-66b54f57b184",
   "metadata": {},
   "outputs": [
    {
     "data": {
      "text/html": [
       "<div>\n",
       "<style scoped>\n",
       "    .dataframe tbody tr th:only-of-type {\n",
       "        vertical-align: middle;\n",
       "    }\n",
       "\n",
       "    .dataframe tbody tr th {\n",
       "        vertical-align: top;\n",
       "    }\n",
       "\n",
       "    .dataframe thead th {\n",
       "        text-align: right;\n",
       "    }\n",
       "</style>\n",
       "<table border=\"1\" class=\"dataframe\">\n",
       "  <thead>\n",
       "    <tr style=\"text-align: right;\">\n",
       "      <th></th>\n",
       "      <th>page_number</th>\n",
       "      <th>page_char_count</th>\n",
       "      <th>page_word_count</th>\n",
       "      <th>page_setence_count_raw</th>\n",
       "      <th>page_token_count</th>\n",
       "      <th>text</th>\n",
       "    </tr>\n",
       "  </thead>\n",
       "  <tbody>\n",
       "    <tr>\n",
       "      <th>0</th>\n",
       "      <td>-41</td>\n",
       "      <td>29</td>\n",
       "      <td>4</td>\n",
       "      <td>1</td>\n",
       "      <td>7.25</td>\n",
       "      <td>Human Nutrition: 2020 Edition</td>\n",
       "    </tr>\n",
       "    <tr>\n",
       "      <th>1</th>\n",
       "      <td>-40</td>\n",
       "      <td>0</td>\n",
       "      <td>1</td>\n",
       "      <td>1</td>\n",
       "      <td>0.00</td>\n",
       "      <td></td>\n",
       "    </tr>\n",
       "    <tr>\n",
       "      <th>2</th>\n",
       "      <td>-39</td>\n",
       "      <td>320</td>\n",
       "      <td>54</td>\n",
       "      <td>1</td>\n",
       "      <td>80.00</td>\n",
       "      <td>Human Nutrition: 2020  Edition  UNIVERSITY OF ...</td>\n",
       "    </tr>\n",
       "    <tr>\n",
       "      <th>3</th>\n",
       "      <td>-38</td>\n",
       "      <td>212</td>\n",
       "      <td>32</td>\n",
       "      <td>1</td>\n",
       "      <td>53.00</td>\n",
       "      <td>Human Nutrition: 2020 Edition by University of...</td>\n",
       "    </tr>\n",
       "    <tr>\n",
       "      <th>4</th>\n",
       "      <td>-37</td>\n",
       "      <td>797</td>\n",
       "      <td>147</td>\n",
       "      <td>3</td>\n",
       "      <td>199.25</td>\n",
       "      <td>Contents  Preface  University of Hawai‘i at Mā...</td>\n",
       "    </tr>\n",
       "  </tbody>\n",
       "</table>\n",
       "</div>"
      ],
      "text/plain": [
       "   page_number  page_char_count  page_word_count  page_setence_count_raw  \\\n",
       "0          -41               29                4                       1   \n",
       "1          -40                0                1                       1   \n",
       "2          -39              320               54                       1   \n",
       "3          -38              212               32                       1   \n",
       "4          -37              797              147                       3   \n",
       "\n",
       "   page_token_count                                               text  \n",
       "0              7.25                      Human Nutrition: 2020 Edition  \n",
       "1              0.00                                                     \n",
       "2             80.00  Human Nutrition: 2020  Edition  UNIVERSITY OF ...  \n",
       "3             53.00  Human Nutrition: 2020 Edition by University of...  \n",
       "4            199.25  Contents  Preface  University of Hawai‘i at Mā...  "
      ]
     },
     "execution_count": 4,
     "metadata": {},
     "output_type": "execute_result"
    }
   ],
   "source": [
    "import pandas as pd\n",
    "\n",
    "df = pd.DataFrame(pages_and_texts)\n",
    "df.head()"
   ]
  },
  {
   "cell_type": "code",
   "execution_count": 5,
   "id": "d26e84cf-bb69-4ff4-b846-c27c30a5ea47",
   "metadata": {},
   "outputs": [
    {
     "data": {
      "text/html": [
       "<div>\n",
       "<style scoped>\n",
       "    .dataframe tbody tr th:only-of-type {\n",
       "        vertical-align: middle;\n",
       "    }\n",
       "\n",
       "    .dataframe tbody tr th {\n",
       "        vertical-align: top;\n",
       "    }\n",
       "\n",
       "    .dataframe thead th {\n",
       "        text-align: right;\n",
       "    }\n",
       "</style>\n",
       "<table border=\"1\" class=\"dataframe\">\n",
       "  <thead>\n",
       "    <tr style=\"text-align: right;\">\n",
       "      <th></th>\n",
       "      <th>page_number</th>\n",
       "      <th>page_char_count</th>\n",
       "      <th>page_word_count</th>\n",
       "      <th>page_setence_count_raw</th>\n",
       "      <th>page_token_count</th>\n",
       "    </tr>\n",
       "  </thead>\n",
       "  <tbody>\n",
       "    <tr>\n",
       "      <th>count</th>\n",
       "      <td>1208.00</td>\n",
       "      <td>1208.00</td>\n",
       "      <td>1208.00</td>\n",
       "      <td>1208.00</td>\n",
       "      <td>1208.00</td>\n",
       "    </tr>\n",
       "    <tr>\n",
       "      <th>mean</th>\n",
       "      <td>562.50</td>\n",
       "      <td>1148.00</td>\n",
       "      <td>199.50</td>\n",
       "      <td>10.52</td>\n",
       "      <td>287.00</td>\n",
       "    </tr>\n",
       "    <tr>\n",
       "      <th>std</th>\n",
       "      <td>348.86</td>\n",
       "      <td>560.38</td>\n",
       "      <td>95.83</td>\n",
       "      <td>6.55</td>\n",
       "      <td>140.10</td>\n",
       "    </tr>\n",
       "    <tr>\n",
       "      <th>min</th>\n",
       "      <td>-41.00</td>\n",
       "      <td>0.00</td>\n",
       "      <td>1.00</td>\n",
       "      <td>1.00</td>\n",
       "      <td>0.00</td>\n",
       "    </tr>\n",
       "    <tr>\n",
       "      <th>25%</th>\n",
       "      <td>260.75</td>\n",
       "      <td>762.00</td>\n",
       "      <td>134.00</td>\n",
       "      <td>5.00</td>\n",
       "      <td>190.50</td>\n",
       "    </tr>\n",
       "    <tr>\n",
       "      <th>50%</th>\n",
       "      <td>562.50</td>\n",
       "      <td>1231.50</td>\n",
       "      <td>216.00</td>\n",
       "      <td>10.00</td>\n",
       "      <td>307.88</td>\n",
       "    </tr>\n",
       "    <tr>\n",
       "      <th>75%</th>\n",
       "      <td>864.25</td>\n",
       "      <td>1603.50</td>\n",
       "      <td>272.00</td>\n",
       "      <td>15.00</td>\n",
       "      <td>400.88</td>\n",
       "    </tr>\n",
       "    <tr>\n",
       "      <th>max</th>\n",
       "      <td>1166.00</td>\n",
       "      <td>2308.00</td>\n",
       "      <td>430.00</td>\n",
       "      <td>39.00</td>\n",
       "      <td>577.00</td>\n",
       "    </tr>\n",
       "  </tbody>\n",
       "</table>\n",
       "</div>"
      ],
      "text/plain": [
       "       page_number  page_char_count  page_word_count  page_setence_count_raw  \\\n",
       "count      1208.00          1208.00          1208.00                 1208.00   \n",
       "mean        562.50          1148.00           199.50                   10.52   \n",
       "std         348.86           560.38            95.83                    6.55   \n",
       "min         -41.00             0.00             1.00                    1.00   \n",
       "25%         260.75           762.00           134.00                    5.00   \n",
       "50%         562.50          1231.50           216.00                   10.00   \n",
       "75%         864.25          1603.50           272.00                   15.00   \n",
       "max        1166.00          2308.00           430.00                   39.00   \n",
       "\n",
       "       page_token_count  \n",
       "count           1208.00  \n",
       "mean             287.00  \n",
       "std              140.10  \n",
       "min                0.00  \n",
       "25%              190.50  \n",
       "50%              307.88  \n",
       "75%              400.88  \n",
       "max              577.00  "
      ]
     },
     "execution_count": 5,
     "metadata": {},
     "output_type": "execute_result"
    }
   ],
   "source": [
    "df.describe().round(2)\n"
   ]
  },
  {
   "cell_type": "markdown",
   "id": "8d9c55f4-0db1-43e0-abea-f82e97740458",
   "metadata": {},
   "source": [
    "### Further text processing (splitting pages into sentences)"
   ]
  },
  {
   "cell_type": "code",
   "execution_count": 6,
   "id": "691bbe37-9a85-4478-83e5-ed033b97e87c",
   "metadata": {},
   "outputs": [
    {
     "data": {
      "text/plain": [
       "<spacy.pipeline.sentencizer.Sentencizer at 0x25a1f42ed10>"
      ]
     },
     "execution_count": 6,
     "metadata": {},
     "output_type": "execute_result"
    }
   ],
   "source": [
    "from spacy.lang.en import English\n",
    "\n",
    "nlp = English()\n",
    "\n",
    "# Add a sentencizer pipeline, see https://spacy.io/api/sentencizer \n",
    "nlp.add_pipe(\"sentencizer\")"
   ]
  },
  {
   "cell_type": "code",
   "execution_count": 7,
   "id": "2d0de859-90bd-45d7-af02-af4da854c195",
   "metadata": {},
   "outputs": [
    {
     "data": {
      "application/vnd.jupyter.widget-view+json": {
       "model_id": "57eca383536f44d9bf94a2a1742ecfae",
       "version_major": 2,
       "version_minor": 0
      },
      "text/plain": [
       "  0%|          | 0/1208 [00:00<?, ?it/s]"
      ]
     },
     "metadata": {},
     "output_type": "display_data"
    }
   ],
   "source": [
    "for item in tqdm(pages_and_texts):\n",
    "    item[\"sentences\"] = list(nlp(item[\"text\"]).sents)\n",
    "\n",
    "    # Make sure all sentences are strings (the default type is a spaCy datatype)\n",
    "    item[\"sentences\"] = [str(sentence) for sentence in item[\"sentences\"]]\n",
    "\n",
    "    # Count the sentences\n",
    "    item[\"page_sentence_count_spacy\"] = len(item[\"sentences\"])"
   ]
  },
  {
   "cell_type": "code",
   "execution_count": 8,
   "id": "23c5a9b1-8e40-492d-9f4a-e2ef4c238fc8",
   "metadata": {},
   "outputs": [
    {
     "data": {
      "text/plain": [
       "[{'page_number': 677,\n",
       "  'page_char_count': 397,\n",
       "  'page_word_count': 75,\n",
       "  'page_setence_count_raw': 3,\n",
       "  'page_token_count': 99.25,\n",
       "  'text': 'Image by  Allison  Calabrese /  CC BY 4.0  Dietary Reference Intakes for Selenium  The IOM has set the RDAs for selenium based on the amount  required to maximize the activity of glutathione peroxidases found  in blood plasma. The RDAs for different age groups are listed in  Table 11.6 “Dietary Reference Intakes for Selenium”.  Table 11.6 Dietary Reference Intakes for Selenium  Selenium  |  677',\n",
       "  'sentences': ['Image by  Allison  Calabrese /  CC BY 4.0  Dietary Reference Intakes for Selenium  The IOM has set the RDAs for selenium based on the amount  required to maximize the activity of glutathione peroxidases found  in blood plasma.',\n",
       "   'The RDAs for different age groups are listed in  Table 11.6 “Dietary Reference Intakes for Selenium”.',\n",
       "   ' Table 11.6 Dietary Reference Intakes for Selenium  Selenium  |  677'],\n",
       "  'page_sentence_count_spacy': 3}]"
      ]
     },
     "execution_count": 8,
     "metadata": {},
     "output_type": "execute_result"
    }
   ],
   "source": [
    "random.sample(pages_and_texts, k=1)"
   ]
  },
  {
   "cell_type": "code",
   "execution_count": 9,
   "id": "c8415730-71b2-4483-a9d2-917e2bfbe351",
   "metadata": {},
   "outputs": [
    {
     "data": {
      "text/html": [
       "<div>\n",
       "<style scoped>\n",
       "    .dataframe tbody tr th:only-of-type {\n",
       "        vertical-align: middle;\n",
       "    }\n",
       "\n",
       "    .dataframe tbody tr th {\n",
       "        vertical-align: top;\n",
       "    }\n",
       "\n",
       "    .dataframe thead th {\n",
       "        text-align: right;\n",
       "    }\n",
       "</style>\n",
       "<table border=\"1\" class=\"dataframe\">\n",
       "  <thead>\n",
       "    <tr style=\"text-align: right;\">\n",
       "      <th></th>\n",
       "      <th>page_number</th>\n",
       "      <th>page_char_count</th>\n",
       "      <th>page_word_count</th>\n",
       "      <th>page_setence_count_raw</th>\n",
       "      <th>page_token_count</th>\n",
       "      <th>page_sentence_count_spacy</th>\n",
       "    </tr>\n",
       "  </thead>\n",
       "  <tbody>\n",
       "    <tr>\n",
       "      <th>count</th>\n",
       "      <td>1208.00</td>\n",
       "      <td>1208.00</td>\n",
       "      <td>1208.00</td>\n",
       "      <td>1208.00</td>\n",
       "      <td>1208.00</td>\n",
       "      <td>1208.00</td>\n",
       "    </tr>\n",
       "    <tr>\n",
       "      <th>mean</th>\n",
       "      <td>562.50</td>\n",
       "      <td>1148.00</td>\n",
       "      <td>199.50</td>\n",
       "      <td>10.52</td>\n",
       "      <td>287.00</td>\n",
       "      <td>10.32</td>\n",
       "    </tr>\n",
       "    <tr>\n",
       "      <th>std</th>\n",
       "      <td>348.86</td>\n",
       "      <td>560.38</td>\n",
       "      <td>95.83</td>\n",
       "      <td>6.55</td>\n",
       "      <td>140.10</td>\n",
       "      <td>6.30</td>\n",
       "    </tr>\n",
       "    <tr>\n",
       "      <th>min</th>\n",
       "      <td>-41.00</td>\n",
       "      <td>0.00</td>\n",
       "      <td>1.00</td>\n",
       "      <td>1.00</td>\n",
       "      <td>0.00</td>\n",
       "      <td>0.00</td>\n",
       "    </tr>\n",
       "    <tr>\n",
       "      <th>25%</th>\n",
       "      <td>260.75</td>\n",
       "      <td>762.00</td>\n",
       "      <td>134.00</td>\n",
       "      <td>5.00</td>\n",
       "      <td>190.50</td>\n",
       "      <td>5.00</td>\n",
       "    </tr>\n",
       "    <tr>\n",
       "      <th>50%</th>\n",
       "      <td>562.50</td>\n",
       "      <td>1231.50</td>\n",
       "      <td>216.00</td>\n",
       "      <td>10.00</td>\n",
       "      <td>307.88</td>\n",
       "      <td>10.00</td>\n",
       "    </tr>\n",
       "    <tr>\n",
       "      <th>75%</th>\n",
       "      <td>864.25</td>\n",
       "      <td>1603.50</td>\n",
       "      <td>272.00</td>\n",
       "      <td>15.00</td>\n",
       "      <td>400.88</td>\n",
       "      <td>15.00</td>\n",
       "    </tr>\n",
       "    <tr>\n",
       "      <th>max</th>\n",
       "      <td>1166.00</td>\n",
       "      <td>2308.00</td>\n",
       "      <td>430.00</td>\n",
       "      <td>39.00</td>\n",
       "      <td>577.00</td>\n",
       "      <td>28.00</td>\n",
       "    </tr>\n",
       "  </tbody>\n",
       "</table>\n",
       "</div>"
      ],
      "text/plain": [
       "       page_number  page_char_count  page_word_count  page_setence_count_raw  \\\n",
       "count      1208.00          1208.00          1208.00                 1208.00   \n",
       "mean        562.50          1148.00           199.50                   10.52   \n",
       "std         348.86           560.38            95.83                    6.55   \n",
       "min         -41.00             0.00             1.00                    1.00   \n",
       "25%         260.75           762.00           134.00                    5.00   \n",
       "50%         562.50          1231.50           216.00                   10.00   \n",
       "75%         864.25          1603.50           272.00                   15.00   \n",
       "max        1166.00          2308.00           430.00                   39.00   \n",
       "\n",
       "       page_token_count  page_sentence_count_spacy  \n",
       "count           1208.00                    1208.00  \n",
       "mean             287.00                      10.32  \n",
       "std              140.10                       6.30  \n",
       "min                0.00                       0.00  \n",
       "25%              190.50                       5.00  \n",
       "50%              307.88                      10.00  \n",
       "75%              400.88                      15.00  \n",
       "max              577.00                      28.00  "
      ]
     },
     "execution_count": 9,
     "metadata": {},
     "output_type": "execute_result"
    }
   ],
   "source": [
    "df = pd.DataFrame(pages_and_texts)\n",
    "df.describe().round(2)"
   ]
  },
  {
   "cell_type": "markdown",
   "id": "199a62d2-6362-41a6-a177-9d60dd769369",
   "metadata": {},
   "source": [
    "### Chunking our sentences together"
   ]
  },
  {
   "cell_type": "code",
   "execution_count": 10,
   "id": "13439c3e-7133-4a87-8e89-f7c9acd31594",
   "metadata": {},
   "outputs": [
    {
     "data": {
      "text/plain": [
       "[[0, 1, 2, 3, 4, 5, 6, 7, 8, 9],\n",
       " [10, 11, 12, 13, 14, 15, 16, 17, 18, 19],\n",
       " [20, 21, 22, 23, 24]]"
      ]
     },
     "execution_count": 10,
     "metadata": {},
     "output_type": "execute_result"
    }
   ],
   "source": [
    "# Define split size to turn groups of sentences into chunks\n",
    "num_sentence_chunk_size = 10\n",
    "\n",
    "# Create a function to split lists of texts recursively into chunk size\n",
    "# e.g. [20] -> [10, 10] or [25] -> [10, 10, 5]\n",
    "def split_list(input_list: list[str],\n",
    "               slice_size: int=num_sentence_chunk_size) -> list[list[str]]:\n",
    "    return [input_list[i:i+slice_size] for i in range(0, len(input_list), slice_size)]\n",
    "\n",
    "test_list = list(range(25))\n",
    "split_list(test_list)"
   ]
  },
  {
   "cell_type": "code",
   "execution_count": 11,
   "id": "2d009791-53ca-4967-bc0d-00ed806c7fc0",
   "metadata": {},
   "outputs": [
    {
     "data": {
      "application/vnd.jupyter.widget-view+json": {
       "model_id": "95803600050b4c74a61cfc846597e57a",
       "version_major": 2,
       "version_minor": 0
      },
      "text/plain": [
       "  0%|          | 0/1208 [00:00<?, ?it/s]"
      ]
     },
     "metadata": {},
     "output_type": "display_data"
    }
   ],
   "source": [
    "# Loop through pages and texts and split sentences into chunks\n",
    "for item in tqdm(pages_and_texts):\n",
    "    item[\"sentence_chunks\"] = split_list(input_list=item[\"sentences\"],\n",
    "                                         slice_size=num_sentence_chunk_size)\n",
    "    item[\"num_chunks\"] = len(item[\"sentence_chunks\"])"
   ]
  },
  {
   "cell_type": "code",
   "execution_count": 12,
   "id": "824d26c8-a284-4730-aed4-a6cbf5524f43",
   "metadata": {},
   "outputs": [
    {
     "data": {
      "text/plain": [
       "[{'page_number': 749,\n",
       "  'page_char_count': 403,\n",
       "  'page_word_count': 64,\n",
       "  'page_setence_count_raw': 4,\n",
       "  'page_token_count': 100.75,\n",
       "  'text': 'The amount of discretionary calories increases with physical  activity level and decreases with age. For most physically active  adults, the discretionary calorie allowance is, at most, 15 percent  of the recommended caloric intake. By consuming nutrient-dense  foods, you afford yourself a discretionary calorie allowance.  Table 12.5 Sample Menu Plan Containing 2,000 Calories  MyPlate Planner  |  749',\n",
       "  'sentences': ['The amount of discretionary calories increases with physical  activity level and decreases with age.',\n",
       "   'For most physically active  adults, the discretionary calorie allowance is, at most, 15 percent  of the recommended caloric intake.',\n",
       "   'By consuming nutrient-dense  foods, you afford yourself a discretionary calorie allowance.',\n",
       "   ' Table 12.5 Sample Menu Plan Containing 2,000 Calories  MyPlate Planner  |  749'],\n",
       "  'page_sentence_count_spacy': 4,\n",
       "  'sentence_chunks': [['The amount of discretionary calories increases with physical  activity level and decreases with age.',\n",
       "    'For most physically active  adults, the discretionary calorie allowance is, at most, 15 percent  of the recommended caloric intake.',\n",
       "    'By consuming nutrient-dense  foods, you afford yourself a discretionary calorie allowance.',\n",
       "    ' Table 12.5 Sample Menu Plan Containing 2,000 Calories  MyPlate Planner  |  749']],\n",
       "  'num_chunks': 1}]"
      ]
     },
     "execution_count": 12,
     "metadata": {},
     "output_type": "execute_result"
    }
   ],
   "source": [
    "random.sample(pages_and_texts, k=1)"
   ]
  },
  {
   "cell_type": "code",
   "execution_count": 13,
   "id": "aa49c60b-73e0-456c-b2a3-a85e630982c6",
   "metadata": {},
   "outputs": [
    {
     "data": {
      "text/html": [
       "<div>\n",
       "<style scoped>\n",
       "    .dataframe tbody tr th:only-of-type {\n",
       "        vertical-align: middle;\n",
       "    }\n",
       "\n",
       "    .dataframe tbody tr th {\n",
       "        vertical-align: top;\n",
       "    }\n",
       "\n",
       "    .dataframe thead th {\n",
       "        text-align: right;\n",
       "    }\n",
       "</style>\n",
       "<table border=\"1\" class=\"dataframe\">\n",
       "  <thead>\n",
       "    <tr style=\"text-align: right;\">\n",
       "      <th></th>\n",
       "      <th>page_number</th>\n",
       "      <th>page_char_count</th>\n",
       "      <th>page_word_count</th>\n",
       "      <th>page_setence_count_raw</th>\n",
       "      <th>page_token_count</th>\n",
       "      <th>page_sentence_count_spacy</th>\n",
       "      <th>num_chunks</th>\n",
       "    </tr>\n",
       "  </thead>\n",
       "  <tbody>\n",
       "    <tr>\n",
       "      <th>count</th>\n",
       "      <td>1208.00</td>\n",
       "      <td>1208.00</td>\n",
       "      <td>1208.00</td>\n",
       "      <td>1208.00</td>\n",
       "      <td>1208.00</td>\n",
       "      <td>1208.00</td>\n",
       "      <td>1208.00</td>\n",
       "    </tr>\n",
       "    <tr>\n",
       "      <th>mean</th>\n",
       "      <td>562.50</td>\n",
       "      <td>1148.00</td>\n",
       "      <td>199.50</td>\n",
       "      <td>10.52</td>\n",
       "      <td>287.00</td>\n",
       "      <td>10.32</td>\n",
       "      <td>1.53</td>\n",
       "    </tr>\n",
       "    <tr>\n",
       "      <th>std</th>\n",
       "      <td>348.86</td>\n",
       "      <td>560.38</td>\n",
       "      <td>95.83</td>\n",
       "      <td>6.55</td>\n",
       "      <td>140.10</td>\n",
       "      <td>6.30</td>\n",
       "      <td>0.64</td>\n",
       "    </tr>\n",
       "    <tr>\n",
       "      <th>min</th>\n",
       "      <td>-41.00</td>\n",
       "      <td>0.00</td>\n",
       "      <td>1.00</td>\n",
       "      <td>1.00</td>\n",
       "      <td>0.00</td>\n",
       "      <td>0.00</td>\n",
       "      <td>0.00</td>\n",
       "    </tr>\n",
       "    <tr>\n",
       "      <th>25%</th>\n",
       "      <td>260.75</td>\n",
       "      <td>762.00</td>\n",
       "      <td>134.00</td>\n",
       "      <td>5.00</td>\n",
       "      <td>190.50</td>\n",
       "      <td>5.00</td>\n",
       "      <td>1.00</td>\n",
       "    </tr>\n",
       "    <tr>\n",
       "      <th>50%</th>\n",
       "      <td>562.50</td>\n",
       "      <td>1231.50</td>\n",
       "      <td>216.00</td>\n",
       "      <td>10.00</td>\n",
       "      <td>307.88</td>\n",
       "      <td>10.00</td>\n",
       "      <td>1.00</td>\n",
       "    </tr>\n",
       "    <tr>\n",
       "      <th>75%</th>\n",
       "      <td>864.25</td>\n",
       "      <td>1603.50</td>\n",
       "      <td>272.00</td>\n",
       "      <td>15.00</td>\n",
       "      <td>400.88</td>\n",
       "      <td>15.00</td>\n",
       "      <td>2.00</td>\n",
       "    </tr>\n",
       "    <tr>\n",
       "      <th>max</th>\n",
       "      <td>1166.00</td>\n",
       "      <td>2308.00</td>\n",
       "      <td>430.00</td>\n",
       "      <td>39.00</td>\n",
       "      <td>577.00</td>\n",
       "      <td>28.00</td>\n",
       "      <td>3.00</td>\n",
       "    </tr>\n",
       "  </tbody>\n",
       "</table>\n",
       "</div>"
      ],
      "text/plain": [
       "       page_number  page_char_count  page_word_count  page_setence_count_raw  \\\n",
       "count      1208.00          1208.00          1208.00                 1208.00   \n",
       "mean        562.50          1148.00           199.50                   10.52   \n",
       "std         348.86           560.38            95.83                    6.55   \n",
       "min         -41.00             0.00             1.00                    1.00   \n",
       "25%         260.75           762.00           134.00                    5.00   \n",
       "50%         562.50          1231.50           216.00                   10.00   \n",
       "75%         864.25          1603.50           272.00                   15.00   \n",
       "max        1166.00          2308.00           430.00                   39.00   \n",
       "\n",
       "       page_token_count  page_sentence_count_spacy  num_chunks  \n",
       "count           1208.00                    1208.00     1208.00  \n",
       "mean             287.00                      10.32        1.53  \n",
       "std              140.10                       6.30        0.64  \n",
       "min                0.00                       0.00        0.00  \n",
       "25%              190.50                       5.00        1.00  \n",
       "50%              307.88                      10.00        1.00  \n",
       "75%              400.88                      15.00        2.00  \n",
       "max              577.00                      28.00        3.00  "
      ]
     },
     "execution_count": 13,
     "metadata": {},
     "output_type": "execute_result"
    }
   ],
   "source": [
    "df = pd.DataFrame(pages_and_texts)\n",
    "df.describe().round(2)"
   ]
  },
  {
   "cell_type": "markdown",
   "id": "e928566e-1f6a-4345-9fc1-faf60a42d78d",
   "metadata": {},
   "source": [
    "### Splitting each chunk into its own item"
   ]
  },
  {
   "cell_type": "code",
   "execution_count": 14,
   "id": "997fa2e8-46e2-471d-af86-956ae6ccacef",
   "metadata": {},
   "outputs": [
    {
     "data": {
      "application/vnd.jupyter.widget-view+json": {
       "model_id": "60d98321d214401c8f9310dafaabdd40",
       "version_major": 2,
       "version_minor": 0
      },
      "text/plain": [
       "  0%|          | 0/1208 [00:00<?, ?it/s]"
      ]
     },
     "metadata": {},
     "output_type": "display_data"
    },
    {
     "data": {
      "text/plain": [
       "1843"
      ]
     },
     "execution_count": 14,
     "metadata": {},
     "output_type": "execute_result"
    }
   ],
   "source": [
    "import re\n",
    "\n",
    "# Split each chunk into its own item\n",
    "pages_and_chunks = []\n",
    "for item in tqdm(pages_and_texts): \n",
    "    for sentence_chunk in item[\"sentence_chunks\"]: \n",
    "        chunk_dict = {}\n",
    "        chunk_dict[\"page_number\"] = item[\"page_number\"]\n",
    "\n",
    "        # Join the sentences together into a paragraph-like structure, aka join the list of sentences into one paragraph\n",
    "        joined_sentence_chunk = \"\".join(sentence_chunk).replace(\"  \", \" \").strip()\n",
    "        joined_sentence_chunk = re.sub(r'\\.([A-Z])', r'. \\1', joined_sentence_chunk) # \".A\" => \". A\" (will work for any captial letter)\n",
    "\n",
    "        chunk_dict[\"sentence_chunk\"] = joined_sentence_chunk\n",
    "\n",
    "        # Get some stats on our chunks\n",
    "        chunk_dict[\"chunk_char_count\"] = len(joined_sentence_chunk)\n",
    "        chunk_dict[\"chunk_word_count\"] = len([word for word in joined_sentence_chunk.split(\" \")])\n",
    "        chunk_dict[\"chunk_token_count\"] = len(joined_sentence_chunk) / 4 # 1 token = ~4 chars\n",
    "\n",
    "        pages_and_chunks.append(chunk_dict) \n",
    "\n",
    "len(pages_and_chunks)"
   ]
  },
  {
   "cell_type": "code",
   "execution_count": 15,
   "id": "cdb6b26c-7ecf-4bd9-9892-9fc01bf1d514",
   "metadata": {},
   "outputs": [
    {
     "data": {
      "text/plain": [
       "[{'page_number': 1045,\n",
       "  'sentence_chunk': 'effectively. By contrast, eating a variety of foods from all food groups fuels the body by providing what it needs to produce energy, promote metabolic activity, prevent micronutrient deficiencies, ward off chronic disease, and bolstering a sense of overall health and well-being. Introduction | 1045',\n",
       "  'chunk_char_count': 300,\n",
       "  'chunk_word_count': 45,\n",
       "  'chunk_token_count': 75.0}]"
      ]
     },
     "execution_count": 15,
     "metadata": {},
     "output_type": "execute_result"
    }
   ],
   "source": [
    "random.sample(pages_and_chunks, k=1)"
   ]
  },
  {
   "cell_type": "code",
   "execution_count": 16,
   "id": "767e7260-b942-45f3-8182-81b252073a6a",
   "metadata": {},
   "outputs": [
    {
     "data": {
      "text/html": [
       "<div>\n",
       "<style scoped>\n",
       "    .dataframe tbody tr th:only-of-type {\n",
       "        vertical-align: middle;\n",
       "    }\n",
       "\n",
       "    .dataframe tbody tr th {\n",
       "        vertical-align: top;\n",
       "    }\n",
       "\n",
       "    .dataframe thead th {\n",
       "        text-align: right;\n",
       "    }\n",
       "</style>\n",
       "<table border=\"1\" class=\"dataframe\">\n",
       "  <thead>\n",
       "    <tr style=\"text-align: right;\">\n",
       "      <th></th>\n",
       "      <th>page_number</th>\n",
       "      <th>chunk_char_count</th>\n",
       "      <th>chunk_word_count</th>\n",
       "      <th>chunk_token_count</th>\n",
       "    </tr>\n",
       "  </thead>\n",
       "  <tbody>\n",
       "    <tr>\n",
       "      <th>count</th>\n",
       "      <td>1843.00</td>\n",
       "      <td>1843.00</td>\n",
       "      <td>1843.00</td>\n",
       "      <td>1843.00</td>\n",
       "    </tr>\n",
       "    <tr>\n",
       "      <th>mean</th>\n",
       "      <td>583.38</td>\n",
       "      <td>734.10</td>\n",
       "      <td>112.74</td>\n",
       "      <td>183.52</td>\n",
       "    </tr>\n",
       "    <tr>\n",
       "      <th>std</th>\n",
       "      <td>347.79</td>\n",
       "      <td>447.51</td>\n",
       "      <td>71.24</td>\n",
       "      <td>111.88</td>\n",
       "    </tr>\n",
       "    <tr>\n",
       "      <th>min</th>\n",
       "      <td>-41.00</td>\n",
       "      <td>12.00</td>\n",
       "      <td>3.00</td>\n",
       "      <td>3.00</td>\n",
       "    </tr>\n",
       "    <tr>\n",
       "      <th>25%</th>\n",
       "      <td>280.50</td>\n",
       "      <td>315.00</td>\n",
       "      <td>45.00</td>\n",
       "      <td>78.75</td>\n",
       "    </tr>\n",
       "    <tr>\n",
       "      <th>50%</th>\n",
       "      <td>586.00</td>\n",
       "      <td>745.00</td>\n",
       "      <td>115.00</td>\n",
       "      <td>186.25</td>\n",
       "    </tr>\n",
       "    <tr>\n",
       "      <th>75%</th>\n",
       "      <td>890.00</td>\n",
       "      <td>1118.00</td>\n",
       "      <td>173.00</td>\n",
       "      <td>279.50</td>\n",
       "    </tr>\n",
       "    <tr>\n",
       "      <th>max</th>\n",
       "      <td>1166.00</td>\n",
       "      <td>1830.00</td>\n",
       "      <td>297.00</td>\n",
       "      <td>457.50</td>\n",
       "    </tr>\n",
       "  </tbody>\n",
       "</table>\n",
       "</div>"
      ],
      "text/plain": [
       "       page_number  chunk_char_count  chunk_word_count  chunk_token_count\n",
       "count      1843.00           1843.00           1843.00            1843.00\n",
       "mean        583.38            734.10            112.74             183.52\n",
       "std         347.79            447.51             71.24             111.88\n",
       "min         -41.00             12.00              3.00               3.00\n",
       "25%         280.50            315.00             45.00              78.75\n",
       "50%         586.00            745.00            115.00             186.25\n",
       "75%         890.00           1118.00            173.00             279.50\n",
       "max        1166.00           1830.00            297.00             457.50"
      ]
     },
     "execution_count": 16,
     "metadata": {},
     "output_type": "execute_result"
    }
   ],
   "source": [
    "df = pd.DataFrame(pages_and_chunks)\n",
    "df.describe().round(2)"
   ]
  },
  {
   "cell_type": "code",
   "execution_count": 17,
   "id": "834df828-4864-4625-b78c-218b9569dd21",
   "metadata": {},
   "outputs": [
    {
     "data": {
      "text/html": [
       "<div>\n",
       "<style scoped>\n",
       "    .dataframe tbody tr th:only-of-type {\n",
       "        vertical-align: middle;\n",
       "    }\n",
       "\n",
       "    .dataframe tbody tr th {\n",
       "        vertical-align: top;\n",
       "    }\n",
       "\n",
       "    .dataframe thead th {\n",
       "        text-align: right;\n",
       "    }\n",
       "</style>\n",
       "<table border=\"1\" class=\"dataframe\">\n",
       "  <thead>\n",
       "    <tr style=\"text-align: right;\">\n",
       "      <th></th>\n",
       "      <th>page_number</th>\n",
       "      <th>sentence_chunk</th>\n",
       "      <th>chunk_char_count</th>\n",
       "      <th>chunk_word_count</th>\n",
       "      <th>chunk_token_count</th>\n",
       "    </tr>\n",
       "  </thead>\n",
       "  <tbody>\n",
       "    <tr>\n",
       "      <th>0</th>\n",
       "      <td>-41</td>\n",
       "      <td>Human Nutrition: 2020 Edition</td>\n",
       "      <td>29</td>\n",
       "      <td>4</td>\n",
       "      <td>7.25</td>\n",
       "    </tr>\n",
       "    <tr>\n",
       "      <th>1</th>\n",
       "      <td>-39</td>\n",
       "      <td>Human Nutrition: 2020 Edition UNIVERSITY OF HA...</td>\n",
       "      <td>308</td>\n",
       "      <td>42</td>\n",
       "      <td>77.00</td>\n",
       "    </tr>\n",
       "    <tr>\n",
       "      <th>2</th>\n",
       "      <td>-38</td>\n",
       "      <td>Human Nutrition: 2020 Edition by University of...</td>\n",
       "      <td>210</td>\n",
       "      <td>30</td>\n",
       "      <td>52.50</td>\n",
       "    </tr>\n",
       "    <tr>\n",
       "      <th>3</th>\n",
       "      <td>-37</td>\n",
       "      <td>Contents Preface University of Hawai‘i at Māno...</td>\n",
       "      <td>766</td>\n",
       "      <td>116</td>\n",
       "      <td>191.50</td>\n",
       "    </tr>\n",
       "    <tr>\n",
       "      <th>4</th>\n",
       "      <td>-36</td>\n",
       "      <td>Lifestyles and Nutrition University of Hawai‘i...</td>\n",
       "      <td>941</td>\n",
       "      <td>144</td>\n",
       "      <td>235.25</td>\n",
       "    </tr>\n",
       "  </tbody>\n",
       "</table>\n",
       "</div>"
      ],
      "text/plain": [
       "   page_number                                     sentence_chunk  \\\n",
       "0          -41                      Human Nutrition: 2020 Edition   \n",
       "1          -39  Human Nutrition: 2020 Edition UNIVERSITY OF HA...   \n",
       "2          -38  Human Nutrition: 2020 Edition by University of...   \n",
       "3          -37  Contents Preface University of Hawai‘i at Māno...   \n",
       "4          -36  Lifestyles and Nutrition University of Hawai‘i...   \n",
       "\n",
       "   chunk_char_count  chunk_word_count  chunk_token_count  \n",
       "0                29                 4               7.25  \n",
       "1               308                42              77.00  \n",
       "2               210                30              52.50  \n",
       "3               766               116             191.50  \n",
       "4               941               144             235.25  "
      ]
     },
     "execution_count": 17,
     "metadata": {},
     "output_type": "execute_result"
    }
   ],
   "source": [
    "df.head()"
   ]
  },
  {
   "cell_type": "markdown",
   "id": "db02eabe-ae02-430a-bd54-89d9489351d1",
   "metadata": {},
   "source": [
    "### Filter chunks of text for short chunks"
   ]
  },
  {
   "cell_type": "code",
   "execution_count": 18,
   "id": "c8e173b9-ad00-476b-a3e0-9e14e6a77843",
   "metadata": {},
   "outputs": [
    {
     "name": "stdout",
     "output_type": "stream",
     "text": [
      "Chunk token count: 28.75 | Text: You can view it online here: http://pressbooks.oer.hawaii.edu/ humannutrition2/?p=55  28 | Lifestyles and Nutrition\n",
      "Chunk token count: 12.75 | Text: PART VI CHAPTER 6. PROTEIN Chapter 6. Protein | 357\n",
      "Chunk token count: 3.5 | Text: Fluoride | 697\n",
      "Chunk token count: 20.5 | Text: http://pressbooks.oer.hawaii.edu/ humannutrition2/?p=283  Alcohol Metabolism | 441\n",
      "Chunk token count: 20.5 | Text: http://pressbooks.oer.hawaii.edu/ humannutrition2/?p=84  The Digestive System | 81\n"
     ]
    }
   ],
   "source": [
    "# Show random chunks with under 30 tokens in length\n",
    "min_token_length = 30\n",
    "for row in df[df[\"chunk_token_count\"] <= min_token_length].sample(5).iterrows():\n",
    "    print(f'Chunk token count: {row[1][\"chunk_token_count\"]} | Text: {row[1][\"sentence_chunk\"]}')"
   ]
  },
  {
   "cell_type": "code",
   "execution_count": 19,
   "id": "af0a227c-5090-4498-ad4d-6f3da75f0f00",
   "metadata": {},
   "outputs": [
    {
     "data": {
      "text/plain": [
       "[{'page_number': -39,\n",
       "  'sentence_chunk': 'Human Nutrition: 2020 Edition UNIVERSITY OF HAWAI‘I AT MĀNOA FOOD SCIENCE AND HUMAN NUTRITION PROGRAM ALAN TITCHENAL, SKYLAR HARA, NOEMI ARCEO CAACBAY, WILLIAM MEINKE-LAU, YA-YUN YANG, MARIE KAINOA FIALKOWSKI REVILLA, JENNIFER DRAPER, GEMADY LANGFELDER, CHERYL GIBBY, CHYNA NICOLE CHUN, AND ALLISON CALABRESE',\n",
       "  'chunk_char_count': 308,\n",
       "  'chunk_word_count': 42,\n",
       "  'chunk_token_count': 77.0},\n",
       " {'page_number': -38,\n",
       "  'sentence_chunk': 'Human Nutrition: 2020 Edition by University of Hawai‘i at Mānoa Food Science and Human Nutrition Program is licensed under a Creative Commons Attribution 4.0 International License, except where otherwise noted.',\n",
       "  'chunk_char_count': 210,\n",
       "  'chunk_word_count': 30,\n",
       "  'chunk_token_count': 52.5}]"
      ]
     },
     "execution_count": 19,
     "metadata": {},
     "output_type": "execute_result"
    }
   ],
   "source": [
    "# Filter our DataFrame for rows with under 30 tokens\n",
    "pages_and_chunks_over_min_token_len = df[df[\"chunk_token_count\"] > min_token_length].to_dict(orient=\"records\")\n",
    "pages_and_chunks_over_min_token_len[:2]"
   ]
  },
  {
   "cell_type": "code",
   "execution_count": 20,
   "id": "c3fbc8c3-d504-409f-bb93-4adf989f7e1b",
   "metadata": {},
   "outputs": [
    {
     "data": {
      "text/plain": [
       "[{'page_number': 36,\n",
       "  'sentence_chunk': 'Experimental test. Coindet administered iodine tincture orally to his patients with goiter. Interpret results. Coindet’s iodine treatment was successful.  Hypothesis. French chemist Chatin proposed that the low iodine content in food and water in certain areas far away from the ocean was the primary cause of goiter, and renounced the theory that goiter was the result of poor hygiene. Experimental test. In the late 1860s the program, “The stamping- out of goiter,” started with people in several villages in France being given iodine tablets. Results. The program was effective and 80 percent of goitrous children were cured.',\n",
       "  'chunk_char_count': 628,\n",
       "  'chunk_word_count': 98,\n",
       "  'chunk_token_count': 157.0}]"
      ]
     },
     "execution_count": 20,
     "metadata": {},
     "output_type": "execute_result"
    }
   ],
   "source": [
    "random.sample(pages_and_chunks_over_min_token_len, k=1)"
   ]
  },
  {
   "cell_type": "markdown",
   "id": "c3eedf39-8fa3-496a-a22b-95880ab0a7f8",
   "metadata": {},
   "source": [
    "### Embedding our text chunks"
   ]
  },
  {
   "cell_type": "code",
   "execution_count": 21,
   "id": "2fa9d39b-d6f1-42be-8833-0ff2ff47bea4",
   "metadata": {},
   "outputs": [
    {
     "name": "stderr",
     "output_type": "stream",
     "text": [
      "C:\\Users\\ELHUSSEIN-STORE\\simple-local-rag\\venv\\Lib\\site-packages\\huggingface_hub\\file_download.py:945: FutureWarning: `resume_download` is deprecated and will be removed in version 1.0.0. Downloads always resume when possible. If you want to force a new download, use `force_download=True`.\n",
      "  warnings.warn(\n",
      "C:\\Users\\ELHUSSEIN-STORE\\simple-local-rag\\venv\\Lib\\site-packages\\huggingface_hub\\file_download.py:945: FutureWarning: `resume_download` is deprecated and will be removed in version 1.0.0. Downloads always resume when possible. If you want to force a new download, use `force_download=True`.\n",
      "  warnings.warn(\n"
     ]
    }
   ],
   "source": [
    "from sentence_transformers import SentenceTransformer\n",
    "embedding_model = SentenceTransformer(model_name_or_path=\"all-mpnet-base-v2\",\n",
    "                                      device=\"cpu\")"
   ]
  },
  {
   "cell_type": "code",
   "execution_count": 22,
   "id": "d342d018-72fa-4aaf-8a7d-e891f2e94b9d",
   "metadata": {},
   "outputs": [
    {
     "data": {
      "application/vnd.jupyter.widget-view+json": {
       "model_id": "3e1041d380b64544b7d3f7ac9124efb1",
       "version_major": 2,
       "version_minor": 0
      },
      "text/plain": [
       "  0%|          | 0/1680 [00:00<?, ?it/s]"
      ]
     },
     "metadata": {},
     "output_type": "display_data"
    },
    {
     "name": "stdout",
     "output_type": "stream",
     "text": [
      "CPU times: total: 10min 45s\n",
      "Wall time: 2min 52s\n"
     ]
    }
   ],
   "source": [
    "%%time\n",
    "\n",
    "embedding_model.to(\"cuda\")\n",
    "\n",
    "for item in tqdm(pages_and_chunks_over_min_token_len):\n",
    "    item[\"embedding\"] = embedding_model.encode(item[\"sentence_chunk\"])"
   ]
  },
  {
   "cell_type": "code",
   "execution_count": 23,
   "id": "5ae44f51-5336-4408-8ae4-684be695ea70",
   "metadata": {},
   "outputs": [
    {
     "name": "stdout",
     "output_type": "stream",
     "text": [
      "CPU times: total: 0 ns\n",
      "Wall time: 1.01 ms\n"
     ]
    },
    {
     "data": {
      "text/plain": [
       "'often. • Calm your “sweet tooth” by eating fruits, such as berries or an apple. • Replace sugary soft drinks with seltzer water, tea, or a small amount of 100 percent fruit juice added to water or soda water. The Food Industry: Functional Attributes of Carbohydrates and the Use of Sugar Substitutes In the food industry, both fast-releasing and slow-releasing carbohydrates are utilized to give foods a wide spectrum of functional attributes, including increased sweetness, viscosity, bulk, coating ability, solubility, consistency, texture, body, and browning capacity. The differences in chemical structure between the different carbohydrates confer their varied functional uses in foods. Starches, gums, and pectins are used as thickening agents in making jam, cakes, cookies, noodles, canned products, imitation cheeses, and a variety of other foods. Molecular gastronomists use slow- releasing carbohydrates, such as alginate, to give shape and texture to their fascinating food creations. Adding fiber to foods increases bulk. Simple sugars are used not only for adding sweetness, but also to add texture, consistency, and browning. In ice cream, the combination of sucrose and corn syrup imparts sweetness as well as a glossy appearance and smooth texture.'"
      ]
     },
     "execution_count": 23,
     "metadata": {},
     "output_type": "execute_result"
    }
   ],
   "source": [
    "\n",
    "%%time\n",
    "\n",
    "text_chunks = [item[\"sentence_chunk\"] for item in pages_and_chunks_over_min_token_len]\n",
    "text_chunks[419]"
   ]
  },
  {
   "cell_type": "code",
   "execution_count": 24,
   "id": "8e19644e-14e0-499e-9f83-59d463a253fc",
   "metadata": {},
   "outputs": [
    {
     "name": "stdout",
     "output_type": "stream",
     "text": [
      "CPU times: total: 2min 48s\n",
      "Wall time: 2min 15s\n"
     ]
    },
    {
     "data": {
      "text/plain": [
       "tensor([[ 0.0674,  0.0902, -0.0051,  ..., -0.0221, -0.0232,  0.0126],\n",
       "        [ 0.0552,  0.0592, -0.0166,  ..., -0.0120, -0.0103,  0.0227],\n",
       "        [ 0.0280,  0.0340, -0.0206,  ..., -0.0054,  0.0213,  0.0313],\n",
       "        ...,\n",
       "        [ 0.0771,  0.0098, -0.0122,  ..., -0.0409, -0.0752, -0.0241],\n",
       "        [ 0.1030, -0.0165,  0.0083,  ..., -0.0574, -0.0283, -0.0295],\n",
       "        [ 0.0864, -0.0125, -0.0113,  ..., -0.0522, -0.0337, -0.0299]],\n",
       "       device='cuda:0')"
      ]
     },
     "execution_count": 24,
     "metadata": {},
     "output_type": "execute_result"
    }
   ],
   "source": [
    "%%time\n",
    "\n",
    "# Embed all texts in batches\n",
    "text_chunk_embeddings = embedding_model.encode(text_chunks,\n",
    "                                               batch_size=32, # you can experiment to find which batch size leads to best results\n",
    "                                               convert_to_tensor=True)\n",
    "text_chunk_embeddings "
   ]
  },
  {
   "cell_type": "markdown",
   "id": "b72573b5-c3ba-40f3-b1bf-0bc3450a482b",
   "metadata": {},
   "source": [
    "### Save embeddings to file"
   ]
  },
  {
   "cell_type": "code",
   "execution_count": 25,
   "id": "7c91ac43-747a-42ba-ac66-5ff604376acb",
   "metadata": {},
   "outputs": [],
   "source": [
    "# Save embeddings to file\n",
    "text_chunks_and_embeddings_df = pd.DataFrame(pages_and_chunks_over_min_token_len)\n",
    "embeddings_df_save_path = \"text_chunks_and_embeddings_df.csv\"\n",
    "text_chunks_and_embeddings_df.to_csv(embeddings_df_save_path, index=False)"
   ]
  },
  {
   "cell_type": "code",
   "execution_count": 26,
   "id": "c87b0db8-c2a6-46e7-b74a-0374b314796b",
   "metadata": {},
   "outputs": [
    {
     "data": {
      "text/html": [
       "<div>\n",
       "<style scoped>\n",
       "    .dataframe tbody tr th:only-of-type {\n",
       "        vertical-align: middle;\n",
       "    }\n",
       "\n",
       "    .dataframe tbody tr th {\n",
       "        vertical-align: top;\n",
       "    }\n",
       "\n",
       "    .dataframe thead th {\n",
       "        text-align: right;\n",
       "    }\n",
       "</style>\n",
       "<table border=\"1\" class=\"dataframe\">\n",
       "  <thead>\n",
       "    <tr style=\"text-align: right;\">\n",
       "      <th></th>\n",
       "      <th>page_number</th>\n",
       "      <th>sentence_chunk</th>\n",
       "      <th>chunk_char_count</th>\n",
       "      <th>chunk_word_count</th>\n",
       "      <th>chunk_token_count</th>\n",
       "      <th>embedding</th>\n",
       "    </tr>\n",
       "  </thead>\n",
       "  <tbody>\n",
       "    <tr>\n",
       "      <th>0</th>\n",
       "      <td>-39</td>\n",
       "      <td>Human Nutrition: 2020 Edition UNIVERSITY OF HA...</td>\n",
       "      <td>308</td>\n",
       "      <td>42</td>\n",
       "      <td>77.00</td>\n",
       "      <td>[ 6.74242899e-02  9.02281404e-02 -5.09548327e-...</td>\n",
       "    </tr>\n",
       "    <tr>\n",
       "      <th>1</th>\n",
       "      <td>-38</td>\n",
       "      <td>Human Nutrition: 2020 Edition by University of...</td>\n",
       "      <td>210</td>\n",
       "      <td>30</td>\n",
       "      <td>52.50</td>\n",
       "      <td>[ 5.52156121e-02  5.92139401e-02 -1.66167468e-...</td>\n",
       "    </tr>\n",
       "    <tr>\n",
       "      <th>2</th>\n",
       "      <td>-37</td>\n",
       "      <td>Contents Preface University of Hawai‘i at Māno...</td>\n",
       "      <td>766</td>\n",
       "      <td>116</td>\n",
       "      <td>191.50</td>\n",
       "      <td>[ 2.79801711e-02  3.39814313e-02 -2.06426643e-...</td>\n",
       "    </tr>\n",
       "    <tr>\n",
       "      <th>3</th>\n",
       "      <td>-36</td>\n",
       "      <td>Lifestyles and Nutrition University of Hawai‘i...</td>\n",
       "      <td>941</td>\n",
       "      <td>144</td>\n",
       "      <td>235.25</td>\n",
       "      <td>[ 6.82566836e-02  3.81274745e-02 -8.46855342e-...</td>\n",
       "    </tr>\n",
       "    <tr>\n",
       "      <th>4</th>\n",
       "      <td>-35</td>\n",
       "      <td>The Cardiovascular System University of Hawai‘...</td>\n",
       "      <td>998</td>\n",
       "      <td>152</td>\n",
       "      <td>249.50</td>\n",
       "      <td>[ 3.30264196e-02 -8.49765539e-03  9.57158115e-...</td>\n",
       "    </tr>\n",
       "  </tbody>\n",
       "</table>\n",
       "</div>"
      ],
      "text/plain": [
       "   page_number                                     sentence_chunk  \\\n",
       "0          -39  Human Nutrition: 2020 Edition UNIVERSITY OF HA...   \n",
       "1          -38  Human Nutrition: 2020 Edition by University of...   \n",
       "2          -37  Contents Preface University of Hawai‘i at Māno...   \n",
       "3          -36  Lifestyles and Nutrition University of Hawai‘i...   \n",
       "4          -35  The Cardiovascular System University of Hawai‘...   \n",
       "\n",
       "   chunk_char_count  chunk_word_count  chunk_token_count  \\\n",
       "0               308                42              77.00   \n",
       "1               210                30              52.50   \n",
       "2               766               116             191.50   \n",
       "3               941               144             235.25   \n",
       "4               998               152             249.50   \n",
       "\n",
       "                                           embedding  \n",
       "0  [ 6.74242899e-02  9.02281404e-02 -5.09548327e-...  \n",
       "1  [ 5.52156121e-02  5.92139401e-02 -1.66167468e-...  \n",
       "2  [ 2.79801711e-02  3.39814313e-02 -2.06426643e-...  \n",
       "3  [ 6.82566836e-02  3.81274745e-02 -8.46855342e-...  \n",
       "4  [ 3.30264196e-02 -8.49765539e-03  9.57158115e-...  "
      ]
     },
     "execution_count": 26,
     "metadata": {},
     "output_type": "execute_result"
    }
   ],
   "source": [
    "# Import saved file and view \n",
    "text_chunks_and_embedding_df_load = pd.read_csv(embeddings_df_save_path)\n",
    "text_chunks_and_embedding_df_load.head()"
   ]
  },
  {
   "cell_type": "markdown",
   "id": "84a8d08b-e042-4033-9601-7556e8b3059b",
   "metadata": {},
   "source": [
    "###  RAG - Search and Answer"
   ]
  },
  {
   "cell_type": "code",
   "execution_count": 27,
   "id": "29bb5b00-1697-4e7a-9720-1df38616b66d",
   "metadata": {},
   "outputs": [
    {
     "data": {
      "text/html": [
       "<div>\n",
       "<style scoped>\n",
       "    .dataframe tbody tr th:only-of-type {\n",
       "        vertical-align: middle;\n",
       "    }\n",
       "\n",
       "    .dataframe tbody tr th {\n",
       "        vertical-align: top;\n",
       "    }\n",
       "\n",
       "    .dataframe thead th {\n",
       "        text-align: right;\n",
       "    }\n",
       "</style>\n",
       "<table border=\"1\" class=\"dataframe\">\n",
       "  <thead>\n",
       "    <tr style=\"text-align: right;\">\n",
       "      <th></th>\n",
       "      <th>page_number</th>\n",
       "      <th>sentence_chunk</th>\n",
       "      <th>chunk_char_count</th>\n",
       "      <th>chunk_word_count</th>\n",
       "      <th>chunk_token_count</th>\n",
       "      <th>embedding</th>\n",
       "    </tr>\n",
       "  </thead>\n",
       "  <tbody>\n",
       "    <tr>\n",
       "      <th>0</th>\n",
       "      <td>-39</td>\n",
       "      <td>Human Nutrition: 2020 Edition UNIVERSITY OF HA...</td>\n",
       "      <td>308</td>\n",
       "      <td>42</td>\n",
       "      <td>77.00</td>\n",
       "      <td>[0.0674242899, 0.0902281404, -0.00509548327, -...</td>\n",
       "    </tr>\n",
       "    <tr>\n",
       "      <th>1</th>\n",
       "      <td>-38</td>\n",
       "      <td>Human Nutrition: 2020 Edition by University of...</td>\n",
       "      <td>210</td>\n",
       "      <td>30</td>\n",
       "      <td>52.50</td>\n",
       "      <td>[0.0552156121, 0.0592139401, -0.0166167468, -0...</td>\n",
       "    </tr>\n",
       "    <tr>\n",
       "      <th>2</th>\n",
       "      <td>-37</td>\n",
       "      <td>Contents Preface University of Hawai‘i at Māno...</td>\n",
       "      <td>766</td>\n",
       "      <td>116</td>\n",
       "      <td>191.50</td>\n",
       "      <td>[0.0279801711, 0.0339814313, -0.0206426643, 0....</td>\n",
       "    </tr>\n",
       "    <tr>\n",
       "      <th>3</th>\n",
       "      <td>-36</td>\n",
       "      <td>Lifestyles and Nutrition University of Hawai‘i...</td>\n",
       "      <td>941</td>\n",
       "      <td>144</td>\n",
       "      <td>235.25</td>\n",
       "      <td>[0.0682566836, 0.0381274745, -0.00846855342, -...</td>\n",
       "    </tr>\n",
       "    <tr>\n",
       "      <th>4</th>\n",
       "      <td>-35</td>\n",
       "      <td>The Cardiovascular System University of Hawai‘...</td>\n",
       "      <td>998</td>\n",
       "      <td>152</td>\n",
       "      <td>249.50</td>\n",
       "      <td>[0.0330264196, -0.00849765539, 0.00957158115, ...</td>\n",
       "    </tr>\n",
       "    <tr>\n",
       "      <th>...</th>\n",
       "      <td>...</td>\n",
       "      <td>...</td>\n",
       "      <td>...</td>\n",
       "      <td>...</td>\n",
       "      <td>...</td>\n",
       "      <td>...</td>\n",
       "    </tr>\n",
       "    <tr>\n",
       "      <th>1675</th>\n",
       "      <td>1164</td>\n",
       "      <td>Flashcard Images Note: Most images in the flas...</td>\n",
       "      <td>1304</td>\n",
       "      <td>186</td>\n",
       "      <td>326.00</td>\n",
       "      <td>[0.0185622647, -0.0164278075, -0.0127045643, -...</td>\n",
       "    </tr>\n",
       "    <tr>\n",
       "      <th>1676</th>\n",
       "      <td>1164</td>\n",
       "      <td>Hazard Analysis Critical Control Points reused...</td>\n",
       "      <td>374</td>\n",
       "      <td>51</td>\n",
       "      <td>93.50</td>\n",
       "      <td>[0.0334721059, -0.0570440516, 0.0151489237, -0...</td>\n",
       "    </tr>\n",
       "    <tr>\n",
       "      <th>1677</th>\n",
       "      <td>1165</td>\n",
       "      <td>ShareAlike 11. Organs reused “Pancreas Organ A...</td>\n",
       "      <td>1285</td>\n",
       "      <td>175</td>\n",
       "      <td>321.25</td>\n",
       "      <td>[0.0770515576, 0.00978558045, -0.0121817328, 0...</td>\n",
       "    </tr>\n",
       "    <tr>\n",
       "      <th>1678</th>\n",
       "      <td>1165</td>\n",
       "      <td>Sucrose reused “Figure 03 02 05” by OpenStax B...</td>\n",
       "      <td>410</td>\n",
       "      <td>63</td>\n",
       "      <td>102.50</td>\n",
       "      <td>[0.103045136, -0.0164702162, 0.00826846622, 0....</td>\n",
       "    </tr>\n",
       "    <tr>\n",
       "      <th>1679</th>\n",
       "      <td>1166</td>\n",
       "      <td>23. Vitamin D reused “The Functions of Vitamin...</td>\n",
       "      <td>250</td>\n",
       "      <td>39</td>\n",
       "      <td>62.50</td>\n",
       "      <td>[0.0863773599, -0.0125358645, -0.0112746703, 0...</td>\n",
       "    </tr>\n",
       "  </tbody>\n",
       "</table>\n",
       "<p>1680 rows × 6 columns</p>\n",
       "</div>"
      ],
      "text/plain": [
       "      page_number                                     sentence_chunk  \\\n",
       "0             -39  Human Nutrition: 2020 Edition UNIVERSITY OF HA...   \n",
       "1             -38  Human Nutrition: 2020 Edition by University of...   \n",
       "2             -37  Contents Preface University of Hawai‘i at Māno...   \n",
       "3             -36  Lifestyles and Nutrition University of Hawai‘i...   \n",
       "4             -35  The Cardiovascular System University of Hawai‘...   \n",
       "...           ...                                                ...   \n",
       "1675         1164  Flashcard Images Note: Most images in the flas...   \n",
       "1676         1164  Hazard Analysis Critical Control Points reused...   \n",
       "1677         1165  ShareAlike 11. Organs reused “Pancreas Organ A...   \n",
       "1678         1165  Sucrose reused “Figure 03 02 05” by OpenStax B...   \n",
       "1679         1166  23. Vitamin D reused “The Functions of Vitamin...   \n",
       "\n",
       "      chunk_char_count  chunk_word_count  chunk_token_count  \\\n",
       "0                  308                42              77.00   \n",
       "1                  210                30              52.50   \n",
       "2                  766               116             191.50   \n",
       "3                  941               144             235.25   \n",
       "4                  998               152             249.50   \n",
       "...                ...               ...                ...   \n",
       "1675              1304               186             326.00   \n",
       "1676               374                51              93.50   \n",
       "1677              1285               175             321.25   \n",
       "1678               410                63             102.50   \n",
       "1679               250                39              62.50   \n",
       "\n",
       "                                              embedding  \n",
       "0     [0.0674242899, 0.0902281404, -0.00509548327, -...  \n",
       "1     [0.0552156121, 0.0592139401, -0.0166167468, -0...  \n",
       "2     [0.0279801711, 0.0339814313, -0.0206426643, 0....  \n",
       "3     [0.0682566836, 0.0381274745, -0.00846855342, -...  \n",
       "4     [0.0330264196, -0.00849765539, 0.00957158115, ...  \n",
       "...                                                 ...  \n",
       "1675  [0.0185622647, -0.0164278075, -0.0127045643, -...  \n",
       "1676  [0.0334721059, -0.0570440516, 0.0151489237, -0...  \n",
       "1677  [0.0770515576, 0.00978558045, -0.0121817328, 0...  \n",
       "1678  [0.103045136, -0.0164702162, 0.00826846622, 0....  \n",
       "1679  [0.0863773599, -0.0125358645, -0.0112746703, 0...  \n",
       "\n",
       "[1680 rows x 6 columns]"
      ]
     },
     "execution_count": 27,
     "metadata": {},
     "output_type": "execute_result"
    }
   ],
   "source": [
    "import random\n",
    "\n",
    "import torch\n",
    "import numpy as np\n",
    "import pandas as pd\n",
    "\n",
    "device = \"cuda\" if torch.cuda.is_available() else \"cpu\"\n",
    "\n",
    "# Import texts and embedding df\n",
    "text_chunks_and_embedding_df = pd.read_csv(\"text_chunks_and_embeddings_df.csv\")\n",
    "\n",
    "# Convert embedding column back to np.array (it got converted to string when it saved to CSV)\n",
    "text_chunks_and_embedding_df[\"embedding\"] = text_chunks_and_embedding_df[\"embedding\"].apply(lambda x: np.fromstring(x.strip(\"[]\"), sep=\" \"))\n",
    "\n",
    "# Convert our embeddings into a torch.tensor\n",
    "embeddings = torch.tensor(np.stack(text_chunks_and_embedding_df[\"embedding\"].tolist(), axis=0), dtype=torch.float32).to(device)\n",
    "\n",
    "# Convert texts and embedding df to list of dicts\n",
    "pages_and_chunks = text_chunks_and_embedding_df.to_dict(orient=\"records\")\n",
    "\n",
    "text_chunks_and_embedding_df"
   ]
  },
  {
   "cell_type": "code",
   "execution_count": 28,
   "id": "bc295913-134e-479a-89de-e7b4b3802701",
   "metadata": {},
   "outputs": [
    {
     "name": "stderr",
     "output_type": "stream",
     "text": [
      "C:\\Users\\ELHUSSEIN-STORE\\simple-local-rag\\venv\\Lib\\site-packages\\huggingface_hub\\file_download.py:945: FutureWarning: `resume_download` is deprecated and will be removed in version 1.0.0. Downloads always resume when possible. If you want to force a new download, use `force_download=True`.\n",
      "  warnings.warn(\n"
     ]
    }
   ],
   "source": [
    "# Create model\n",
    "from sentence_transformers import util, SentenceTransformer\n",
    "\n",
    "embedding_model = SentenceTransformer(model_name_or_path=\"all-mpnet-base-v2\",\n",
    "                                      device=device)"
   ]
  },
  {
   "cell_type": "code",
   "execution_count": 29,
   "id": "c1ec2f0c-b7f9-4312-8251-7011772830b4",
   "metadata": {},
   "outputs": [
    {
     "name": "stdout",
     "output_type": "stream",
     "text": [
      "Query: good foods for protein\n",
      "[INFO] Time taken to get scores on 1680 embeddings: 0.00272 seconds.\n"
     ]
    },
    {
     "data": {
      "text/plain": [
       "torch.return_types.topk(\n",
       "values=tensor([0.7729, 0.7647, 0.6743, 0.6743, 0.6634], device='cuda:0'),\n",
       "indices=tensor([611, 616, 615, 620, 617], device='cuda:0'))"
      ]
     },
     "execution_count": 29,
     "metadata": {},
     "output_type": "execute_result"
    }
   ],
   "source": [
    "# 1. Define the query\n",
    "query = \"good foods for protein\"\n",
    "print(f\"Query: {query}\")\n",
    "\n",
    "# 2. Embed the query\n",
    "# Note: it's import to embed you query with the same model you embedding your passages\n",
    "query_embedding = embedding_model.encode(query, convert_to_tensor=True).to(\"cuda\")\n",
    "\n",
    "# 3. Get similarity scores with the dot product (use cosine similarity if outputs of model aren't normalized)\n",
    "from time import perf_counter as timer\n",
    "\n",
    "start_time = timer()\n",
    "dot_scores = util.dot_score(a=query_embedding, b=embeddings)[0]\n",
    "end_time = timer() \n",
    "\n",
    "print(f\"[INFO] Time taken to get scores on {len(embeddings)} embeddings: {end_time-start_time:.5f} seconds.\")\n",
    "\n",
    "# 4. Get the top-k results (we'll keep top 5)\n",
    "top_results_dot_product = torch.topk(dot_scores, k=5)\n",
    "top_results_dot_product "
   ]
  },
  {
   "cell_type": "code",
   "execution_count": 30,
   "id": "08a4d390-8b47-4aad-baaf-60bf0e058d5c",
   "metadata": {},
   "outputs": [
    {
     "name": "stdout",
     "output_type": "stream",
     "text": [
      "Embeddings shape: torch.Size([168000, 768])\n",
      "[INFO] Time taken to get scores on 168000 embeddings: 0.00853 seconds.\n"
     ]
    }
   ],
   "source": [
    "larger_embeddings = torch.randn(100*embeddings.shape[0], 768).to(device)\n",
    "print(f\"Embeddings shape: {larger_embeddings.shape}\")\n",
    "\n",
    "# Perform dot product across 168,000 embeddings\n",
    "start_time = timer()\n",
    "dot_scores = util.dot_score(a=query_embedding, b=larger_embeddings)[0]\n",
    "end_time = timer() \n",
    "\n",
    "print(f\"[INFO] Time taken to get scores on {len(larger_embeddings)} embeddings: {end_time-start_time:.5f} seconds.\")"
   ]
  },
  {
   "cell_type": "code",
   "execution_count": 31,
   "id": "27a091b1-df90-432d-b2a3-e7776e391d7e",
   "metadata": {},
   "outputs": [],
   "source": [
    "import textwrap\n",
    "\n",
    "def print_wrapped(text, wrap_length=80):\n",
    "    wrapped_text = textwrap.fill(text, wrap_length)\n",
    "    print(wrapped_text)"
   ]
  },
  {
   "cell_type": "code",
   "execution_count": 32,
   "id": "4d3411c3-b0fa-4771-96db-0a1c407ed0e8",
   "metadata": {},
   "outputs": [
    {
     "name": "stdout",
     "output_type": "stream",
     "text": [
      "Query: 'good foods for protein'\n",
      "\n",
      "Results:\n",
      "Score: 0.7729\n",
      "Text:\n",
      "Dietary Sources of Protein The protein food group consists of foods made from\n",
      "meat, seafood, poultry, eggs, soy, dry beans, peas, and seeds. According to the\n",
      "Harvard School of Public Health, “animal protein and vegetable protein probably\n",
      "have the same effects on health. It’s the protein package that’s likely to make\n",
      "a difference.”1 1. Protein: The Bottom Line. Harvard School of Public Proteins,\n",
      "Diet, and Personal Choices | 411\n",
      "Page number: 411\n",
      "\n",
      "\n",
      "Score: 0.7647\n",
      "Text:\n",
      "Additionally, a person should consume 8 ounces of cooked seafood every week\n",
      "(typically as two 4-ounce servings) to assure they are getting the healthy\n",
      "omega-3 fatty acids that have been linked to a lower risk for heart disease.\n",
      "Another tip is choosing to eat dry beans, peas, or soy products as a main dish.\n",
      "Some of the menu choices include chili with kidney and pinto beans, hummus on\n",
      "pita bread, and black bean enchiladas. You could also enjoy nuts in a variety of\n",
      "ways. You can put them on a salad, in a stir-fry, or use them as a topping for\n",
      "steamed vegetables in place of meat or cheese. If you do not eat meat, the USDA\n",
      "has much more information on how to get all the protein you need from a plant-\n",
      "based diet. When choosing the best protein-rich foods to eat, pay attention to\n",
      "the whole nutrient package and remember to select from a variety of protein\n",
      "sources to get all the other essential micronutrients. Protein Quality While\n",
      "protein is contained in a wide variety of foods, it differs in quality. High-\n",
      "quality protein contains all the essential amino acids in the proportions needed\n",
      "by the human body. The amino acid profile of different foods is therefore one\n",
      "component of protein quality.\n",
      "Page number: 414\n",
      "\n",
      "\n",
      "Score: 0.6743\n",
      "Text:\n",
      "18.9 5.4 200 454 Tuna 3 oz. (canned) 21.7 0.2 26 99 Soybeans 1 c. (boiled) 29.0\n",
      "2.2 0 298 Lentils 1 c. (boiled) 17.9 0.1 0 226 Kidney beans 1 c. (canned) 13.5\n",
      "0.2 0 215 Sunflower seeds 1 c. 9.6 2.0 0 269 The USDA provides some tips for\n",
      "choosing your dietary protein sources. Their motto is, “Go Lean with Protein”.\n",
      "The overall suggestion is to eat a variety of protein-rich foods to benefit\n",
      "health. The USDA recommends lean meats, such as round steaks, top sirloin, extra\n",
      "lean ground beef, pork loin, and skinless chicken. Proteins, Diet, and Personal\n",
      "Choices | 413\n",
      "Page number: 413\n",
      "\n",
      "\n",
      "Score: 0.6743\n",
      "Text:\n",
      "Food PDCAAS* Milk protein 1.00 Egg white 1.00 Whey 1.00 Soy protein 1.00 Beef\n",
      "0.92 Soybeans 0.91 Chickpeas 0.78 Fruits 0.76 Vegetables 0.73 Whole wheat 0.42\n",
      "*1 is the highest rank, 0 is the lowest Protein Needs: Special Considerations\n",
      "Some groups may need to examine how to meet their protein needs more closely\n",
      "than others. We will take a closer look at the special protein considerations\n",
      "for vegetarians, the elderly, and athletes. Vegetarians and Vegans People who\n",
      "follow variations of the vegetarian diet and consume eggs and/or dairy products\n",
      "can meet their protein requirements by consuming adequate amounts of these\n",
      "foods. Vegetarians and vegans can also attain their recommended protein intakes\n",
      "if they give a little more attention to high-quality plant-based protein\n",
      "sources. However, when following a vegetarian diet, the amino acid lysine can be\n",
      "challenging to acquire. Grains, nuts, and seeds are lysine-poor foods, but tofu,\n",
      "soy, quinoa, and pistachios are all good Proteins, Diet, and Personal Choices |\n",
      "417\n",
      "Page number: 417\n",
      "\n",
      "\n",
      "Score: 0.6634\n",
      "Text:\n",
      "Foods that contain some of the essential amino acids are called incomplete\n",
      "protein sources, while those that contain all nine essential amino acids are\n",
      "called complete protein sources, or high- quality protein sources. Foods that\n",
      "are complete protein sources include animal foods such as milk, cheese, eggs,\n",
      "fish, poultry, and meat, and a few plant foods, such as soy and quinoa. The only\n",
      "animal-based protein that is not complete is gelatin, which is made of the\n",
      "protein, collagen. Figure 6.18 Complete and Incomplete Protein Sources 414 |\n",
      "Proteins, Diet, and Personal Choices\n",
      "Page number: 414\n",
      "\n",
      "\n"
     ]
    }
   ],
   "source": [
    "query = \"good foods for protein\"\n",
    "print(f\"Query: '{query}'\\n\")\n",
    "print(\"Results:\")\n",
    "# Loop through zipped together scores and indices from torch.topk\n",
    "for score, idx in zip(top_results_dot_product[0], top_results_dot_product[1]):\n",
    "    print(f\"Score: {score:.4f}\")\n",
    "    print(\"Text:\")\n",
    "    print_wrapped(pages_and_chunks[idx][\"sentence_chunk\"])\n",
    "    print(f\"Page number: {pages_and_chunks[idx]['page_number']}\")\n",
    "    print(\"\\n\")"
   ]
  },
  {
   "cell_type": "code",
   "execution_count": 33,
   "id": "09319d03-73ce-440b-9288-db4d9376e9df",
   "metadata": {},
   "outputs": [
    {
     "data": {
      "image/png": "[encoded data removed]",
      "text/plain": [
       "<Figure size 1300x1000 with 1 Axes>"
      ]
     },
     "metadata": {},
     "output_type": "display_data"
    }
   ],
   "source": [
    "import fitz # pymupdf library\n",
    "\n",
    "# open PDF and load target\n",
    "pdf_path = \"human-nutrition-text.pdf\"\n",
    "doc = fitz.open(pdf_path)\n",
    "page = doc.load_page(411 + 41) # note: page numbers of our PDF start 41+\n",
    "\n",
    "# Get the image of the page\n",
    "img = page.get_pixmap(dpi=300)\n",
    "\n",
    "# Save image (optional)\n",
    "# img.save(\"output_filename.png\")\n",
    "doc.close()\n",
    "\n",
    "# Convert the pixmap to a numpy array\n",
    "img_array = np.frombuffer(img.samples_mv,\n",
    "                          dtype=np.uint8).reshape((img.h, img.w, img.n))\n",
    "\n",
    "# Display the image using Matplotlib\n",
    "import matplotlib.pyplot as plt\n",
    "plt.figure(figsize=(13, 10))\n",
    "plt.imshow(img_array)\n",
    "plt.title(f\"Query: '{query}' | Most relevant page:\")\n",
    "plt.axis(\"off\")\n",
    "plt.show()\n"
   ]
  },
  {
   "cell_type": "markdown",
   "id": "e2dccc6f-c0ba-444b-b9c1-90e59d582881",
   "metadata": {},
   "source": [
    "### Similarity measures: dot product and cosine similarity"
   ]
  },
  {
   "cell_type": "code",
   "execution_count": 34,
   "id": "ada4fc95-22dd-4d7b-a641-e1bc6f8faa2f",
   "metadata": {},
   "outputs": [
    {
     "name": "stdout",
     "output_type": "stream",
     "text": [
      "Dot product between vector1 and vector2: tensor(14.)\n",
      "Dot product between vector1 and vector3: tensor(32.)\n",
      "Dot product between vector1 and vector4: tensor(-14.)\n",
      "Cosine similarity between vector1 and vector2: tensor(1.0000)\n",
      "Cosine similarity between vector1 and vector3: tensor(0.9746)\n",
      "Cosine similarity between vector1 and vector4: tensor(-1.0000)\n"
     ]
    }
   ],
   "source": [
    "import torch\n",
    "\n",
    "def dot_product(vector1, vector2):\n",
    "    return torch.dot(vector1, vector2)\n",
    "\n",
    "def cosine_similarity(vector1, vector2):\n",
    "    dot_product = torch.dot(vector1, vector2)\n",
    "\n",
    "    # Get Euclidean/L2 norm\n",
    "    norm_vector1 = torch.sqrt(torch.sum(vector1**2))\n",
    "    norm_vector2 = torch.sqrt(torch.sum(vector2**2))\n",
    "\n",
    "    return dot_product / (norm_vector1 * norm_vector2)\n",
    "\n",
    "# Example vectors/tensors\n",
    "vector1 = torch.tensor([1, 2, 3], dtype=torch.float32)\n",
    "vector2 = torch.tensor([1, 2, 3], dtype=torch.float32)\n",
    "vector3 = torch.tensor([4, 5, 6], dtype=torch.float32)\n",
    "vector4 = torch.tensor([-1, -2, -3], dtype=torch.float32)\n",
    "\n",
    "# Calculate dot product\n",
    "print(\"Dot product between vector1 and vector2:\", dot_product(vector1, vector2))\n",
    "print(\"Dot product between vector1 and vector3:\", dot_product(vector1, vector3))\n",
    "print(\"Dot product between vector1 and vector4:\", dot_product(vector1, vector4))\n",
    "\n",
    "# Cosine similarity\n",
    "print(\"Cosine similarity between vector1 and vector2:\", cosine_similarity(vector1, vector2))\n",
    "print(\"Cosine similarity between vector1 and vector3:\", cosine_similarity(vector1, vector3))\n",
    "print(\"Cosine similarity between vector1 and vector4:\", cosine_similarity(vector1, vector4))"
   ]
  },
  {
   "cell_type": "markdown",
   "id": "97bab54d-c167-4a7c-98b6-1a94b00a0bc1",
   "metadata": {},
   "source": [
    "### Functionizing our semantic search pipeline"
   ]
  },
  {
   "cell_type": "code",
   "execution_count": 35,
   "id": "2a4c3016-1240-4222-aa1e-7c629a2a2a41",
   "metadata": {},
   "outputs": [],
   "source": [
    "def retrieve_relevant_resources(query: str,\n",
    "                                embeddings: torch.tensor,\n",
    "                                model: SentenceTransformer=embedding_model,\n",
    "                                n_resources_to_return: int=5,\n",
    "                                print_time: bool=True):\n",
    "    \"\"\"\n",
    "    Embeds a query with model and returns top k scores and indices from embeddings.\n",
    "    \"\"\"\n",
    "\n",
    "    # Embed the query\n",
    "    query_embedding = model.encode(query, convert_to_tensor=True)\n",
    "\n",
    "    # Get dot product scores on embeddings\n",
    "    start_time = timer()\n",
    "    dot_scores = util.dot_score(query_embedding, embeddings)[0]\n",
    "    end_time = timer()\n",
    "\n",
    "    if print_time:\n",
    "        print(f\"[INFO] Time taken to get scores on ({len(embeddings)} embeddings: {end_time-start_time:.5f} seconds.\")\n",
    "\n",
    "    scores, indices = torch.topk(input=dot_scores,\n",
    "                                 k=n_resources_to_return)\n",
    "\n",
    "    return scores, indices\n",
    "\n",
    "def print_top_results_and_scores(query: str,\n",
    "                                 embeddings: torch.tensor,\n",
    "                                 pages_and_chunks: list[dict]=pages_and_chunks,\n",
    "                                 n_resources_to_return: int=5):\n",
    "    \"\"\"\n",
    "    Finds relevant passages given a query and prints them out along with their scores.\n",
    "    \"\"\"\n",
    "    scores, indices = retrieve_relevant_resources(query=query,\n",
    "                                                  embeddings=embeddings,\n",
    "                                                  n_resources_to_return=n_resources_to_return)\n",
    "\n",
    "    # Loop through zipped together scores and indices from torch.topk\n",
    "    for score, idx in zip(scores, indices):\n",
    "        print(f\"Score: {score:.4f}\")\n",
    "        print(\"Text:\")\n",
    "        print_wrapped(pages_and_chunks[idx][\"sentence_chunk\"])\n",
    "        print(f\"Page number: {pages_and_chunks[idx]['page_number']}\")\n",
    "        print(\"\\n\")"
   ]
  },
  {
   "cell_type": "code",
   "execution_count": 36,
   "id": "35b48768-ecf9-4f1a-902b-009dea58aee1",
   "metadata": {},
   "outputs": [
    {
     "name": "stdout",
     "output_type": "stream",
     "text": [
      "[INFO] Time taken to get scores on (1680 embeddings: 0.00077 seconds.\n",
      "Score: 0.6964\n",
      "Text:\n",
      "• Change it up a bit and experience the taste and satisfaction of other whole\n",
      "grains such as barley, quinoa, and bulgur. • Eat snacks high in fiber, such as\n",
      "almonds, pistachios, raisins, and air-popped popcorn. Add an artichoke and green\n",
      "peas to your dinner plate more 276 | Carbohydrates and Personal Diet Choices\n",
      "Page number: 276\n",
      "\n",
      "\n",
      "Score: 0.6810\n",
      "Text:\n",
      "Dietary fiber is categorized as either water-soluble or insoluble. Some examples\n",
      "of soluble fibers are inulin, pectin, and guar gum and they are found in peas,\n",
      "beans, oats, barley, and rye. Cellulose and lignin are insoluble fibers and a\n",
      "few dietary sources of them are whole-grain foods, flax, cauliflower, and\n",
      "avocados. Cellulose is the most abundant fiber in plants, making up the cell\n",
      "walls and providing structure. Soluble fibers are more easily accessible to\n",
      "bacterial enzymes in the large intestine so they can be broken down to a greater\n",
      "extent than insoluble fibers, but even some breakdown of cellulose and other\n",
      "insoluble fibers occurs. The last class of fiber is functional fiber. Functional\n",
      "fibers have been added to foods and have been shown to provide health benefits\n",
      "to humans. Functional fibers may be extracted from plants and purified or\n",
      "synthetically made. An example of a functional fiber is psyllium-seed husk.\n",
      "Scientific studies show that consuming psyllium-seed husk reduces blood-\n",
      "cholesterol levels and this health claim has been approved by the FDA.\n",
      "Page number: 237\n",
      "\n",
      "\n",
      "Score: 0.5566\n",
      "Text:\n",
      "Humans and animals store glucose energy from starches in the form of the very\n",
      "large molecule, glycogen. It has many branches that allow it to break down\n",
      "quickly when energy is needed by cells in the body. It is predominantly found in\n",
      "liver and muscle tissue in animals. Dietary Fibers Dietary fibers are\n",
      "polysaccharides that are highly branched and cross-linked. Some dietary fibers\n",
      "are pectin, gums, cellulose, hemicellulose, and lignin. Lignin, however, is not\n",
      "composed of carbohydrate units. Humans do not produce the enzymes that can break\n",
      "down dietary fiber; however, bacteria in the large intestine (colon) do. Dietary\n",
      "fibers are very beneficial to our health. The Dietary Guidelines Advisory\n",
      "Committee states that there is enough scientific evidence to support that diets\n",
      "high in fiber reduce the risk for obesity and diabetes, which are primary risk\n",
      "factors for cardiovascular disease.2 2. US Department of Agriculture.\n",
      "Page number: 236\n",
      "\n",
      "\n",
      "Score: 0.5344\n",
      "Text:\n",
      "potatoes, broccoli, apples, mango, papaya , guavas, blueberries, and\n",
      "strawberries in main and side dishes. Vary your choices to get the benefit of as\n",
      "many different vegetables and fruits as you can. You may choose to drink fruit\n",
      "juice as a replacement for eating fruit. (As long as the juice is 100 percent\n",
      "fruit juice and only half your fruit intake is replaced with juice, this is an\n",
      "acceptable exchange.)For snacks, eat fruits, vegetables, or unsalted nuts. Fill\n",
      "a quarter of your plate with whole grains such as 100 percent whole-grain\n",
      "cereals, breads, crackers, rice, and pasta. Half of your daily grain intake\n",
      "should be whole grains. Read the ingredients list on food labels carefully to\n",
      "determine if a food is comprised of whole grains. Select a variety of protein\n",
      "foods to improve nutrient intake and promote health benefits. Each week, be sure\n",
      "to include a nice array of protein sources in your diet, such as nuts, seeds,\n",
      "beans, legumes, poultry, soy, and seafood.\n",
      "Page number: 747\n",
      "\n",
      "\n",
      "Score: 0.5187\n",
      "Text:\n",
      "Foods Total Carbohydrates Sugars Fiber Added Sugars Banana 27 (1 medium) 14.40\n",
      "3.1 0 Lentils 40 (1 c.) 3.50 16.0 0 Snap beans 8.7 (1 c.) 1.60 4.0 0 Green\n",
      "pepper 5.5 (1 medium) 2.90 2.0 0 Corn tortilla 10.7 (1) 0.20 1.5 0 Bread, wheat\n",
      "bran 17.2 (1 slice) 3.50 1.4 3.4 Bread, rye 15.5 (1 slice) 1.20 1.9 1.0 Bagel\n",
      "(plain) 53 (1 medium) 5.30 2.3 4.8 Brownie 36 (1 square) 20.50 1.2 20.0 Oatmeal\n",
      "cookie 22.3 (1 oz.) 12.00 2.0 7.7 Cornflakes 23 (1 c.) 1.50 0.3 1.5 Pretzels 47\n",
      "(10 twists) 1.30 1.7 0 Popcorn (homemade) 58 (100 g) 0.50 10.0 0 Skim milk 12 (1\n",
      "c.) 12.00 0 0 Cream (half and half) 0.65 (1 Tbs.) 0.02 0 0 Cream substitute 1.0\n",
      "(1 tsp.) 1.00 0 1.0 Cheddar cheese 1.3 (1 slice) 0.50 0 0 Yogurt (with fruit)\n",
      "32.3 (6 oz.) 32.30 0 19.4 Caesar dressing 2.8 (1 Tbs.) 2.80 0 2.4 Sources: •\n",
      "National Nutrient Database for Standard Reference. US Department of\n",
      "Agriculture.http://www.nal.usda.gov/fnic/ foodcomp/search/. Updated December 7,\n",
      "2011. Accessed September 17, 2017. • Database for the Added Sugars Content of\n",
      "Selected Foods.\n",
      "Page number: 273\n",
      "\n",
      "\n"
     ]
    }
   ],
   "source": [
    "query=\"foods high in fiber\"\n",
    "# retrieve_relevant_resources(query=query, embeddings=embeddings) \n",
    "print_top_results_and_scores(query=query, embeddings=embeddings)"
   ]
  },
  {
   "cell_type": "code",
   "execution_count": 37,
   "id": "058f5bc4-fc10-4391-bdaf-36cfb522ace6",
   "metadata": {},
   "outputs": [
    {
     "name": "stdout",
     "output_type": "stream",
     "text": [
      "Your available GPU memory is 4GB. You may not have enough memory to run a Gemma LLM locally without quantization.\n",
      "use_quantization_config set to: True\n",
      "model_id set to: google/gemma-2b-it\n"
     ]
    }
   ],
   "source": [
    "gpu_memory_gb = 4  \n",
    "\n",
    "if gpu_memory_gb < 5.1:\n",
    "    print(f\"Your available GPU memory is {gpu_memory_gb}GB. \"\n",
    "          \"You may not have enough memory to run a Gemma LLM locally without quantization.\")\n",
    "    use_quantization_config = True  # force quantization to try fitting the model\n",
    "    model_id = \"google/gemma-2b-it\"  # smallest Gemma instruction-tuned model\n",
    "elif gpu_memory_gb < 8.1:\n",
    "    print(f\"GPU memory: {gpu_memory_gb} | Recommended model: Gemma 2B in 4-bit precision.\")\n",
    "    use_quantization_config = True\n",
    "    model_id = \"google/gemma-2b-it\"\n",
    "elif gpu_memory_gb < 19.0:\n",
    "    print(f\"GPU memory: {gpu_memory_gb} | Recommended model: Gemma 2B in float16 or Gemma 7B in 4-bit precision.\")\n",
    "    use_quantization_config = False\n",
    "    model_id = \"google/gemma-2b-it\"\n",
    "else:\n",
    "    print(f\"GPU memory: {gpu_memory_gb} | Recommend model: Gemma 7B in 4-bit or float16 precision.\")\n",
    "    use_quantization_config = False\n",
    "    model_id = \"google/gemma-7b-it\"\n",
    "\n",
    "print(f\"use_quantization_config set to: {use_quantization_config}\")\n",
    "print(f\"model_id set to: {model_id}\")\n"
   ]
  },
  {
   "cell_type": "markdown",
   "id": "e97ddc2e-1fb3-4705-9228-707408dd571b",
   "metadata": {},
   "source": [
    "### Loading an LLM locally"
   ]
  },
  {
   "cell_type": "code",
   "execution_count": 38,
   "id": "5d4e8a27-f0be-40ac-965c-402c3fa51e89",
   "metadata": {},
   "outputs": [
    {
     "name": "stdout",
     "output_type": "stream",
     "text": [
      "Using attention implementation: sdpa\n"
     ]
    },
    {
     "name": "stderr",
     "output_type": "stream",
     "text": [
      "C:\\Users\\ELHUSSEIN-STORE\\simple-local-rag\\venv\\Lib\\site-packages\\huggingface_hub\\file_download.py:945: FutureWarning: `resume_download` is deprecated and will be removed in version 1.0.0. Downloads always resume when possible. If you want to force a new download, use `force_download=True`.\n",
      "  warnings.warn(\n"
     ]
    },
    {
     "data": {
      "application/vnd.jupyter.widget-view+json": {
       "model_id": "62b195f705fb4c41bbf41d263c699187",
       "version_major": 2,
       "version_minor": 0
      },
      "text/plain": [
       "Loading checkpoint shards:   0%|          | 0/2 [00:00<?, ?it/s]"
      ]
     },
     "metadata": {},
     "output_type": "display_data"
    }
   ],
   "source": [
    "import torch\n",
    "from transformers import AutoTokenizer, AutoModelForCausalLM\n",
    "from transformers.utils import is_flash_attn_2_available\n",
    "\n",
    "# 1. Create a quantization config\n",
    "# Note: requires !pip install bitsandbytes accelerate\n",
    "from transformers import BitsAndBytesConfig\n",
    "quantization_config = BitsAndBytesConfig(load_in_4bit=True,\n",
    "                                         bnb_4bit_compute_dtype=torch.float16)\n",
    "\n",
    "# Bonus: flash attention 2 = faster attention mechanism\n",
    "# Flash Attention 2 requires a GPU with a compute capability score of 8.0+ (Ampere, Ada Lovelace, Hopper and above): https://developer.nvidia.com/cuda-gpus \n",
    "if (is_flash_attn_2_available()) and (torch.cuda.get_device_capability(0)[0] >= 8):\n",
    "    attn_implementation = \"flash_attention_2\"\n",
    "else:\n",
    "    attn_implementation = \"sdpa\" # scaled dot product attention\n",
    "print(f\"Using attention implementation: {attn_implementation}\") \n",
    "\n",
    "# 2. Pick a model we'd like to use\n",
    "# model_id = \"google/gemma-7b-it\"\n",
    "model_id = model_id\n",
    "\n",
    "# 3. Instantiate tokenizer (tokenizer turns text into tokens)\n",
    "tokenizer = AutoTokenizer.from_pretrained(pretrained_model_name_or_path=model_id)\n",
    "\n",
    "# 4. Instantiate the model \n",
    "llm_model = AutoModelForCausalLM.from_pretrained(\n",
    "    model_id,\n",
    "    torch_dtype=torch.float16,\n",
    "    low_cpu_mem_usage=False,\n",
    "    attn_implementation=attn_implementation\n",
    ")\n",
    "\n",
    "if not use_quantization_config:\n",
    "    llm_model.to(\"cuda\")"
   ]
  },
  {
   "cell_type": "code",
   "execution_count": 39,
   "id": "11e6ed10-fd5a-4c53-a4aa-13dd3b543df2",
   "metadata": {},
   "outputs": [
    {
     "data": {
      "text/plain": [
       "GemmaForCausalLM(\n",
       "  (model): GemmaModel(\n",
       "    (embed_tokens): Embedding(256000, 2048, padding_idx=0)\n",
       "    (layers): ModuleList(\n",
       "      (0-17): 18 x GemmaDecoderLayer(\n",
       "        (self_attn): GemmaSdpaAttention(\n",
       "          (q_proj): Linear(in_features=2048, out_features=2048, bias=False)\n",
       "          (k_proj): Linear(in_features=2048, out_features=256, bias=False)\n",
       "          (v_proj): Linear(in_features=2048, out_features=256, bias=False)\n",
       "          (o_proj): Linear(in_features=2048, out_features=2048, bias=False)\n",
       "          (rotary_emb): GemmaRotaryEmbedding()\n",
       "        )\n",
       "        (mlp): GemmaMLP(\n",
       "          (gate_proj): Linear(in_features=2048, out_features=16384, bias=False)\n",
       "          (up_proj): Linear(in_features=2048, out_features=16384, bias=False)\n",
       "          (down_proj): Linear(in_features=16384, out_features=2048, bias=False)\n",
       "          (act_fn): GELUActivation()\n",
       "        )\n",
       "        (input_layernorm): GemmaRMSNorm()\n",
       "        (post_attention_layernorm): GemmaRMSNorm()\n",
       "      )\n",
       "    )\n",
       "    (norm): GemmaRMSNorm()\n",
       "  )\n",
       "  (lm_head): Linear(in_features=2048, out_features=256000, bias=False)\n",
       ")"
      ]
     },
     "execution_count": 39,
     "metadata": {},
     "output_type": "execute_result"
    }
   ],
   "source": [
    "llm_model"
   ]
  },
  {
   "cell_type": "code",
   "execution_count": 40,
   "id": "6cee481c-8afe-4eb7-a76a-d24aaea9eeb7",
   "metadata": {},
   "outputs": [
    {
     "data": {
      "text/plain": [
       "2506172416"
      ]
     },
     "execution_count": 40,
     "metadata": {},
     "output_type": "execute_result"
    }
   ],
   "source": [
    "def get_model_num_params(model: torch.nn.Module):\n",
    "    return sum([param.numel() for param in model.parameters()])\n",
    "\n",
    "get_model_num_params(llm_model)"
   ]
  },
  {
   "cell_type": "code",
   "execution_count": 41,
   "id": "5258c017-0083-4f53-ad4e-cc9ac9b3aa7c",
   "metadata": {},
   "outputs": [
    {
     "data": {
      "text/plain": [
       "{'model_mem_bytes': 5079453696, 'model_mem_mb': 4844.14, 'model_mem_gb': 4.73}"
      ]
     },
     "execution_count": 41,
     "metadata": {},
     "output_type": "execute_result"
    }
   ],
   "source": [
    "def get_model_mem_size(model: torch.nn.Module):\n",
    "    # Get model parameters and buffer sizes\n",
    "    mem_params = sum([param.nelement() * param.element_size() for param in model.parameters()])\n",
    "    mem_buffers = sum([buf.nelement() * buf.element_size() for buf in model.buffers()])\n",
    "\n",
    "    # Calculate model sizes\n",
    "    model_mem_bytes = mem_params + mem_buffers\n",
    "    model_mem_mb = model_mem_bytes / (1024**2)\n",
    "    model_mem_gb = model_mem_bytes / (1024**3) \n",
    "\n",
    "    return {\"model_mem_bytes\": model_mem_bytes,\n",
    "            \"model_mem_mb\": round(model_mem_mb, 2), \n",
    "            \"model_mem_gb\": round(model_mem_gb, 2)}\n",
    "\n",
    "get_model_mem_size(llm_model)"
   ]
  },
  {
   "cell_type": "markdown",
   "id": "1713d964-1e09-4eac-bc89-eb0161060e78",
   "metadata": {},
   "source": [
    "### Generating text with our LLM"
   ]
  },
  {
   "cell_type": "code",
   "execution_count": 42,
   "id": "945b192f-7c1f-4041-be5b-db272ed1b04e",
   "metadata": {},
   "outputs": [
    {
     "name": "stdout",
     "output_type": "stream",
     "text": [
      "Input text:\n",
      "What are the macronutrients and what are their functions in the body?\n",
      "\n",
      "Prompt (formatted):\n",
      "<bos><start_of_turn>user\n",
      "What are the macronutrients and what are their functions in the body?<end_of_turn>\n",
      "<start_of_turn>model\n",
      "\n"
     ]
    }
   ],
   "source": [
    "input_text = \"What are the macronutrients and what are their functions in the body?\"\n",
    "print(f\"Input text:\\n{input_text}\")\n",
    "\n",
    "# Create prompt template for instruction-tuned model\n",
    "dialogue_template = [\n",
    "    {\"role\": \"user\",\n",
    "     \"content\": input_text}\n",
    "]\n",
    "\n",
    "# Apply the chat template\n",
    "prompt = tokenizer.apply_chat_template(conversation=dialogue_template,\n",
    "                                       tokenize=False,\n",
    "                                       add_generation_prompt=True)\n",
    "print(f\"\\nPrompt (formatted):\\n{prompt}\")"
   ]
  },
  {
   "cell_type": "code",
   "execution_count": 44,
   "id": "8888c24c-3d91-4ab6-b93a-c83b7cb78b64",
   "metadata": {},
   "outputs": [
    {
     "name": "stdout",
     "output_type": "stream",
     "text": [
      "Model output (tokens):\n",
      "tensor([     2,      2,    106,   1645,    108,   1841,    708,    573, 186809,\n",
      "        184592,    578,   1212,    708,   1024,   7257,    575,    573,   2971,\n",
      "        235336,    107,    108,    106,   2516,    108,  21404, 235269,   1517,\n",
      "        235303, 235256,    476,  25497,    576,    573, 186809, 184592,    578,\n",
      "          1024,   7257,    575,    573,   2971, 235292,    109,    688,  12298,\n",
      "          1695, 184592,  66058,    109, 235287,   5231, 156615,  56227,  66058,\n",
      "           108,    141, 235287,  34428,   4134,    604,    573,   2971, 235303,\n",
      "        235256,   5999,    578,  29703, 235265,    108,    141, 235287, 110165,\n",
      "         56227,    708,    573,   2971, 235303, 235256,   1872,   4303,    576,\n",
      "          4134, 235269,   5199,   2290,   6915,   5640, 235265,    108,    141,\n",
      "        235287,  25280,  72780,   3707,   2343,   2127, 235269,  38317, 235269,\n",
      "           578,  84475, 235265,    108, 235287,   5231,  49471,  66058,    108,\n",
      "           141, 235287, 136184,    578,  29630,  29703, 235269,  44760, 235269,\n",
      "           578,  53186, 235265,    108,    141, 235287,  33849,    603,   8727,\n",
      "           604,  15990,   5115,    578,  12158, 235269,    685,   1578,    685,\n",
      "           604,    573,   4584,    576,  43083, 235265,    108,    141, 235287,\n",
      "         19689,  20361,   3707,   8205,   3773, 235269, 102871, 235269,  22606,\n",
      "        235269,    578,  15741, 235265,    108, 235287,   5231,  33690,  66058,\n",
      "           108,    141, 235287,  57697,   4134, 235269,  38823, 235269,    578,\n",
      "           573,   4584,    576,  53186, 235265,    108,    141, 235287,  41137,\n",
      "         61926,   3707,  21361,   4684, 235269,  59269, 235269,  22606, 235269,\n",
      "           578,  15741, 235265,    108,    141, 235287,   3776,  61926,    798,\n",
      "         12310,  45365,   5902,    578,   4740,    573,   5685,    576,   3760,\n",
      "          7197, 235265,    109,    688,  35211,    576,  97586, 184592,  66058,\n",
      "           109, 235287,   5231,  23920,   4584,  66058,   2262,   2149, 186809,\n",
      "        184592,   3658,   4134,    604,    573,   2971, 235303, 235256,   5999,\n",
      "           578,  29703, 235265,    108, 235287,   5231,  25251,    578,  68808,\n",
      "         29703,  66058,  33849,    603,   8727,    604,    573,   6584,    578,\n",
      "         12158,    576,  22488, 235269,  22241, 235269,    578,  82426, 235265,\n",
      "           108, 235287,   5231,  28722,    576,  53186,  66058, 217891,    708,\n",
      "          9408, 136586,    674,  41748,   4282,  55786,   7257, 235269,   3359,\n",
      "         34883])\n",
      "\n",
      "CPU times: total: 56min 19s\n",
      "Wall time: 17min 2s\n"
     ]
    }
   ],
   "source": [
    "%%time\n",
    "\n",
    "# Tokenize the input text (turn it into numbers) and send it to the GPU\n",
    "input_ids = tokenizer(prompt,\n",
    "                      return_tensors=\"pt\")\n",
    "\n",
    "# Generate outputs from local LLM\n",
    "outputs = llm_model.generate(**input_ids,\n",
    "                             max_new_tokens=256)\n",
    "print(f\"Model output (tokens):\\n{outputs[0]}\\n\")"
   ]
  },
  {
   "cell_type": "code",
   "execution_count": 45,
   "id": "6213686a-6bda-47a4-8ddf-199149b28fe8",
   "metadata": {},
   "outputs": [
    {
     "name": "stdout",
     "output_type": "stream",
     "text": [
      "Model output (decoded):\n",
      "<bos><bos><start_of_turn>user\n",
      "What are the macronutrients and what are their functions in the body?<end_of_turn>\n",
      "<start_of_turn>model\n",
      "Sure, here's a breakdown of the macronutrients and their functions in the body:\n",
      "\n",
      "**Macronutrients:**\n",
      "\n",
      "* **Carbohydrates:**\n",
      "    * Provide energy for the body's cells and tissues.\n",
      "    * Carbohydrates are the body's main source of energy, especially during physical activity.\n",
      "    * Complex carbohydrates include starches, fibers, and sugars.\n",
      "* **Protein:**\n",
      "    * Builds and repairs tissues, enzymes, and hormones.\n",
      "    * Protein is essential for muscle growth and repair, as well as for the production of antibodies.\n",
      "    * Complete proteins include animal products, legumes, nuts, and seeds.\n",
      "* **Fat:**\n",
      "    * Provides energy, insulation, and the production of hormones.\n",
      "    * Healthy fats include olive oil, avocado, nuts, and seeds.\n",
      "    * Trans fats can raise cholesterol levels and increase the risk of heart disease.\n",
      "\n",
      "**Functions of Macronutrients:**\n",
      "\n",
      "* **Energy production:** All three macronutrients provide energy for the body's cells and tissues.\n",
      "* **Building and repairing tissues:** Protein is essential for the construction and repair of muscles, bones, and cartilage.\n",
      "* **Production of hormones:** Hormones are chemical messengers that regulate various bodily functions, including metabolism\n",
      "\n"
     ]
    }
   ],
   "source": [
    "# Decode the output tokens to text\n",
    "outputs_decoded = tokenizer.decode(outputs[0])\n",
    "print(f\"Model output (decoded):\\n{outputs_decoded}\\n\")"
   ]
  },
  {
   "cell_type": "code",
   "execution_count": 46,
   "id": "51f34fe0-7914-4ac5-925f-c61009376b72",
   "metadata": {},
   "outputs": [
    {
     "data": {
      "text/plain": [
       "['What are the macronutrients, and what roles do they play in the human body?',\n",
       " 'How do vitamins and minerals differ in their roles and importance for health?',\n",
       " 'Describe the process of digestion and absorption of nutrients in the human body.',\n",
       " 'What role does fibre play in digestion? Name five fibre containing foods.',\n",
       " 'Explain the concept of energy balance and its importance in weight management.',\n",
       " 'How often should infants be breastfed?',\n",
       " 'What are symptoms of pellagra?',\n",
       " 'How does saliva help with digestion?',\n",
       " 'What is the RDI for protein per day?',\n",
       " 'water soluble vitamins']"
      ]
     },
     "execution_count": 46,
     "metadata": {},
     "output_type": "execute_result"
    }
   ],
   "source": [
    "# Nutrition-style questions generated with GPT4\n",
    "gpt4_questions = [\n",
    "    \"What are the macronutrients, and what roles do they play in the human body?\",\n",
    "    \"How do vitamins and minerals differ in their roles and importance for health?\",\n",
    "    \"Describe the process of digestion and absorption of nutrients in the human body.\",\n",
    "    \"What role does fibre play in digestion? Name five fibre containing foods.\",\n",
    "    \"Explain the concept of energy balance and its importance in weight management.\"\n",
    "]\n",
    "\n",
    "# Manually created question list\n",
    "manual_questions = [\n",
    "    \"How often should infants be breastfed?\",\n",
    "    \"What are symptoms of pellagra?\",\n",
    "    \"How does saliva help with digestion?\",\n",
    "    \"What is the RDI for protein per day?\",\n",
    "    \"water soluble vitamins\"\n",
    "]\n",
    "\n",
    "query_list = gpt4_questions + manual_questions\n",
    "query_list"
   ]
  },
  {
   "cell_type": "code",
   "execution_count": 47,
   "id": "ff2ede9f-940d-4772-bf1c-f8421ea581d0",
   "metadata": {},
   "outputs": [
    {
     "name": "stdout",
     "output_type": "stream",
     "text": [
      "Query: What role does fibre play in digestion? Name five fibre containing foods.\n",
      "[INFO] Time taken to get scores on (1680 embeddings: 0.00306 seconds.\n"
     ]
    },
    {
     "data": {
      "text/plain": [
       "(tensor([0.5964, 0.5766, 0.5745, 0.5707, 0.5600], device='cuda:0'),\n",
       " tensor([1548,  360,  373,  380,  379], device='cuda:0'))"
      ]
     },
     "execution_count": 47,
     "metadata": {},
     "output_type": "execute_result"
    }
   ],
   "source": [
    "import random\n",
    "\n",
    "query = random.choice(query_list)\n",
    "print(f\"Query: {query}\") \n",
    "\n",
    "# Get just the scores and indices of top related results\n",
    "scores, indices = retrieve_relevant_resources(query=query,\n",
    "                                              embeddings=embeddings)\n",
    "scores, indices"
   ]
  },
  {
   "cell_type": "markdown",
   "id": "3b19cbec-1746-45da-b9ad-798e7c09e08c",
   "metadata": {},
   "source": [
    "### Augmenting our prompt with context items"
   ]
  },
  {
   "cell_type": "code",
   "execution_count": 48,
   "id": "83cdebce-60d8-4609-a5b1-a416e8e7c8a1",
   "metadata": {},
   "outputs": [
    {
     "name": "stdout",
     "output_type": "stream",
     "text": [
      "Query: How does saliva help with digestion?\n",
      "[INFO] Time taken to get scores on (1680 embeddings: 0.00072 seconds.\n",
      "<bos><start_of_turn>user\n",
      "Based on the following context items, please answer the query.\n",
      "Give yourself room to think by extracting relevant passages from the context before answering the query.\n",
      "Don't return the thinking, only return the answer.\n",
      "Make sure your answers are as explanatory as possible.\n",
      "Use the following examples as reference for the ideal answer style.\n",
      "\n",
      "Example 1:\n",
      "Query: What are the fat-soluble vitamins?\n",
      "Answer: The fat-soluble vitamins include Vitamin A, Vitamin D, Vitamin E, and Vitamin K. These vitamins are absorbed along with fats in the diet and can be stored in the body's fatty tissue and liver for later use. Vitamin A is important for vision, immune function, and skin health. Vitamin D plays a critical role in calcium absorption and bone health. Vitamin E acts as an antioxidant, protecting cells from damage. Vitamin K is essential for blood clotting and bone metabolism.\n",
      "\n",
      "Example 2:\n",
      "Query: What are the causes of type 2 diabetes?\n",
      "Answer: Type 2 diabetes is often associated with overnutrition, particularly the overconsumption of calories leading to obesity. Factors include a diet high in refined sugars and saturated fats, which can lead to insulin resistance, a condition where the body's cells do not respond effectively to insulin. Over time, the pancreas cannot produce enough insulin to manage blood sugar levels, resulting in type 2 diabetes. Additionally, excessive caloric intake without sufficient physical activity exacerbates the risk by promoting weight gain and fat accumulation, particularly around the abdomen, further contributing to insulin resistance.\n",
      "\n",
      "Example 3:\n",
      "Query: What is the importance of hydration for physical performance?\n",
      "Answer: Hydration is crucial for physical performance because water plays key roles in maintaining blood volume, regulating body temperature, and ensuring the transport of nutrients and oxygen to cells. Adequate hydration is essential for optimal muscle function, endurance, and recovery. Dehydration can lead to decreased performance, fatigue, and increased risk of heat-related illnesses, such as heat stroke. Drinking sufficient water before, during, and after exercise helps ensure peak physical performance and recovery.\n",
      "\n",
      "Now use the following context items to answer the user query:\n",
      "- Digestion and Absorption of Carbohydrates UNIVERSITY OF HAWAI‘I AT MĀNOA FOOD SCIENCE AND HUMAN NUTRITION PROGRAM AND HUMAN NUTRITION PROGRAM From the Mouth to the Stomach The mechanical and chemical digestion of carbohydrates begins in the mouth. Chewing, also known as mastication, crumbles the carbohydrate foods into smaller and smaller pieces. The salivary glands in the oral cavity secrete saliva that coats the food particles. Saliva contains the enzyme, salivary amylase. This enzyme breaks the bonds between the monomeric sugar units of disaccharides, oligosaccharides, and starches. The salivary amylase breaks down amylose and amylopectin into smaller chains of glucose, called dextrins and maltose. The increased concentration of maltose in the mouth that results from the mechanical and chemical breakdown of starches in whole grains is what enhances their sweetness. Only about five percent of starches are broken down in the mouth. (This is a good thing as more glucose in the mouth would lead to more tooth decay.)When carbohydrates reach the stomach no further chemical breakdown occurs because the amylase enzyme does not function in the acidic conditions of the stomach.\n",
      "- Image by Allison Calabrese / CC BY 4.0 From the Mouth to the Stomach There are four steps in the digestion process (Figure 2.5 “The Human Digestive System”). The first step is ingestion, which is the intake of food into the digestive tract. It may seem a simple process, but ingestion involves smelling food, thinking about food, and the involuntary release of saliva in the mouth to prepare for food entry. In the mouth, where the second step of digestion starts, the mechanical and chemical breakdown of food begins. The chemical breakdown of food involves enzymes, such as salivary amylase that starts the breakdown of large starch molecules into smaller components. Mechanical breakdown starts with mastication (chewing) in the mouth. Teeth crush and grind large food particles, while saliva provides lubrication and enables food movement downward. The slippery mass of partially broken-down food is called a bolus, which moves down the digestive tract as you swallow. Swallowing may seem voluntary at first because it requires conscious effort to push the food with the tongue back toward the throat, but after this, swallowing proceeds involuntarily, meaning it cannot be stopped 72 | The Digestive System\n",
      "- But mechanical breakdown is ongoing—the strong peristaltic contractions of the stomach mix the carbohydrates into the more uniform mixture of chyme. Figure 4.6 Salivary Glands in the Mouth 240 | Digestion and Absorption of Carbohydrates\n",
      "- The Digestive System UNIVERSITY OF HAWAI‘I AT MĀNOA FOOD SCIENCE AND HUMAN NUTRITION PROGRAM AND HUMAN NUTRITION PROGRAM The process of digestion begins even before you put food into your mouth. When you feel hungry, your body sends a message to your brain that it is time to eat. Sights and smells influence your body’s preparedness for food. Smelling food sends a message to your brain. Your brain then tells the mouth to get ready, and you start to salivate in preparation for a meal. Once you have eaten, your digestive system (Figure 2.4 “The Human Digestive System”) starts the process that breaks down the components of food into smaller components that can be absorbed and taken into the body. To do this, the digestive system functions on two levels, mechanically to move and mix ingested food and chemically to break down large molecules. The smaller nutrient molecules can then be absorbed and processed by cells throughout the body for energy or used as building blocks for new cells. The digestive system is one of the eleven organ systems of the human body, and it is composed of several hollow tube-shaped organs including the mouth, pharynx, esophagus, stomach, small intestine, large intestine (colon), rectum, and anus. It is lined with mucosal tissue that secretes digestive juices (which aid in the breakdown of food) and mucus (which facilitates the propulsion of food through the tract).\n",
      "- Salivary glands secrete salivary amylase, which begins the chemical breakdown of carbohydrate s by breaking the bonds between monomeric sugar units. From the Stomach to the Small Intestine The chyme is gradually expelled into the upper part of the small intestine. Upon entry of the chyme into the small intestine, the pancreas releases pancreatic juice through a duct. This pancreatic juice contains the enzyme, pancreatic amylase, which starts again the breakdown of dextrins into shorter and shorter carbohydrate chains. Additionally, enzymes are secreted by the intestinal cells that line the villi. These enzymes, known collectively as disaccharidase, are sucrase, maltase, and lactase. Sucrase breaks sucrose into glucose and fructose molecules. Maltase breaks the bond between the two glucose units of maltose, and lactase breaks the bond between galactose and glucose. Once carbohydrates are Digestion and Absorption of Carbohydrates | 241\n",
      "\n",
      "Relevant passages: <extract relevant passages from the context here>\n",
      "User query: How does saliva help with digestion?\n",
      "Answer:<end_of_turn>\n",
      "<start_of_turn>model\n",
      "\n"
     ]
    }
   ],
   "source": [
    "def prompt_formatter(query: str,\n",
    "                     context_items: list[dict]) -> str:\n",
    "    context = \"- \" + \"\\n- \".join([item[\"sentence_chunk\"] for item in context_items])\n",
    "\n",
    "    base_prompt = \"\"\"Based on the following context items, please answer the query.\n",
    "Give yourself room to think by extracting relevant passages from the context before answering the query.\n",
    "Don't return the thinking, only return the answer.\n",
    "Make sure your answers are as explanatory as possible.\n",
    "Use the following examples as reference for the ideal answer style.\n",
    "\\nExample 1:\n",
    "Query: What are the fat-soluble vitamins?\n",
    "Answer: The fat-soluble vitamins include Vitamin A, Vitamin D, Vitamin E, and Vitamin K. These vitamins are absorbed along with fats in the diet and can be stored in the body's fatty tissue and liver for later use. Vitamin A is important for vision, immune function, and skin health. Vitamin D plays a critical role in calcium absorption and bone health. Vitamin E acts as an antioxidant, protecting cells from damage. Vitamin K is essential for blood clotting and bone metabolism.\n",
    "\\nExample 2:\n",
    "Query: What are the causes of type 2 diabetes?\n",
    "Answer: Type 2 diabetes is often associated with overnutrition, particularly the overconsumption of calories leading to obesity. Factors include a diet high in refined sugars and saturated fats, which can lead to insulin resistance, a condition where the body's cells do not respond effectively to insulin. Over time, the pancreas cannot produce enough insulin to manage blood sugar levels, resulting in type 2 diabetes. Additionally, excessive caloric intake without sufficient physical activity exacerbates the risk by promoting weight gain and fat accumulation, particularly around the abdomen, further contributing to insulin resistance.\n",
    "\\nExample 3:\n",
    "Query: What is the importance of hydration for physical performance?\n",
    "Answer: Hydration is crucial for physical performance because water plays key roles in maintaining blood volume, regulating body temperature, and ensuring the transport of nutrients and oxygen to cells. Adequate hydration is essential for optimal muscle function, endurance, and recovery. Dehydration can lead to decreased performance, fatigue, and increased risk of heat-related illnesses, such as heat stroke. Drinking sufficient water before, during, and after exercise helps ensure peak physical performance and recovery.\n",
    "\\nNow use the following context items to answer the user query:\n",
    "{context}\n",
    "\\nRelevant passages: <extract relevant passages from the context here>\n",
    "User query: {query}\n",
    "Answer:\"\"\" \n",
    "    base_prompt = base_prompt.format(context=context,\n",
    "                                     query=query)\n",
    "\n",
    "    # Create prompt template for instruction-tuned model \n",
    "    dialogue_template = [\n",
    "        {\"role\": \"user\",\n",
    "         \"content\": base_prompt}\n",
    "    ]\n",
    "\n",
    "    # Apply the chat template\n",
    "    prompt = tokenizer.apply_chat_template(conversation=dialogue_template,\n",
    "                                           tokenize=False,\n",
    "                                           add_generation_prompt=True)\n",
    "    \n",
    "    return prompt\n",
    "\n",
    "query = random.choice(query_list) \n",
    "print(f\"Query: {query}\")\n",
    "\n",
    "# Get relevant resources\n",
    "scores, indices = retrieve_relevant_resources(query=query,\n",
    "                                              embeddings=embeddings)\n",
    "\n",
    "# Create a list of context items\n",
    "context_items = [pages_and_chunks[i] for i in indices]\n",
    "\n",
    "# Format our prompt\n",
    "prompt = prompt_formatter(query=query,\n",
    "                          context_items=context_items)\n",
    "print(prompt)"
   ]
  },
  {
   "cell_type": "code",
   "execution_count": 49,
   "id": "5689c00c-c16f-412f-ac03-18fac96e7a52",
   "metadata": {},
   "outputs": [
    {
     "name": "stdout",
     "output_type": "stream",
     "text": [
      "Query: How does saliva help with digestion?\n",
      "RAG answer:\\m<bos>The passage does not provide any information about how saliva helps with digestion, so I cannot answer this question from the context.<eos>\n",
      "CPU times: total: 1h 24min 57s\n",
      "Wall time: 1h 20min 15s\n"
     ]
    }
   ],
   "source": [
    "%%time\n",
    "\n",
    "input_ids = tokenizer(prompt, return_tensors=\"pt\")\n",
    "\n",
    "# Generate an output of tokens\n",
    "outputs = llm_model.generate(**input_ids,\n",
    "                             temperature=0.7, # from 0 to 1 and the lower the value, the more deterministic the text, the higher the value, the more creative\n",
    "                             do_sample=True, # whether or not to use sampling, https://huyenchip.com/2024/01/16/sampling.html\n",
    "                             max_new_tokens=256)\n",
    "\n",
    "# Turn the output tokens into text\n",
    "output_text = tokenizer.decode(outputs[0])\n",
    "print(f\"Query: {query}\")\n",
    "print(f\"RAG answer:\\m{output_text.replace(prompt, '')}\")"
   ]
  },
  {
   "cell_type": "markdown",
   "id": "4af3415e-4a67-4c38-b8f4-483dad0f20e1",
   "metadata": {},
   "source": [
    "### Functionize our LLM answering feature"
   ]
  },
  {
   "cell_type": "code",
   "execution_count": null,
   "id": "d3a56e74-fc35-4aa8-80d4-3d807719cc5e",
   "metadata": {},
   "outputs": [],
   "source": [
    "def ask(query: str,\n",
    "        temperature: float=0.7,\n",
    "        max_new_tokens:int=256,\n",
    "        format_answer_text=True,\n",
    "        return_answer_only=True):\n",
    "    \"\"\"\n",
    "    Takes a query, finds relevant resources/context and generates an answer to the query based on the relevant resources.\n",
    "    \"\"\"\n",
    "\n",
    "    # RETRIEVAL\n",
    "    # Get just the scores and indices of top related results\n",
    "    scores, indices = retrieve_relevant_resources(query=query,\n",
    "                                                  embeddings=embeddings)\n",
    "\n",
    "    # Create a list of context items\n",
    "    context_items = [pages_and_chunks[i] for i in indices] \n",
    "\n",
    "    # Add score to context item\n",
    "    for i, item in enumerate(context_items): \n",
    "        item[\"score\"] = scores[i].cpu()\n",
    "\n",
    "    # AUGMENTATION\n",
    "    # Create the prompt and format it with context items\n",
    "    prompt = prompt_formatter(query=query,\n",
    "                              context_items=context_items)\n",
    "\n",
    "    # GENERATION\n",
    "    # Tokenize the prompt\n",
    "    input_ids = tokenizer(prompt, return_tensors=\"pt\")\n",
    "\n",
    "    # Generate an output of tokens\n",
    "    outputs = llm_model.generate(**input_ids,\n",
    "                                 temperature=temperature,\n",
    "                                 do_sample=True,\n",
    "                                 max_new_tokens=max_new_tokens)\n",
    "\n",
    "    # Decode the tokens into text\n",
    "    output_text = tokenizer.decode(outputs[0])\n",
    "\n",
    "    # Format the answer\n",
    "    if format_answer_text:\n",
    "        # Replace prompt and special tokens\n",
    "        output_text = output_text.replace(prompt, \"\").replace(\"<bos>\", \"\").replace(\"<eos>\", \"\")\n",
    "\n",
    "    # Only return the answer without context items\n",
    "    if return_answer_only:\n",
    "        return output_text\n",
    "\n",
    "    return output_text, context_items"
   ]
  },
  {
   "cell_type": "code",
   "execution_count": null,
   "id": "e69ee91c-d676-4104-93f3-a2ca1015228c",
   "metadata": {},
   "outputs": [],
   "source": [
    "query = random.choice(query_list)\n",
    "print(f\"Query: {query}\")\n",
    "\n",
    "ask(query=query,\n",
    "    temperature=0.2,\n",
    "    return_answer_only=False)"
   ]
  },
  {
   "cell_type": "code",
   "execution_count": null,
   "id": "c3ac365a-9254-498e-ae60-5ab25c0a273b",
   "metadata": {},
   "outputs": [],
   "source": []
  }
 ],
 "metadata": {
  "kernelspec": {
   "display_name": "Python 3 (ipykernel)",
   "language": "python",
   "name": "python3"
  },
  "language_info": {
   "codemirror_mode": {
    "name": "ipython",
    "version": 3
   },
   "file_extension": ".py",
   "mimetype": "text/x-python",
   "name": "python",
   "nbconvert_exporter": "python",
   "pygments_lexer": "ipython3",
   "version": "3.11.9"
  }
 },
 "nbformat": 4,
 "nbformat_minor": 5
}
